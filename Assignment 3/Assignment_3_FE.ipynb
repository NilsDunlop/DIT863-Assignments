{
 "cells": [
  {
   "cell_type": "markdown",
   "source": [
    "# Assignment 3: Clustering Models\n",
    "## Group Members:\n",
    "### Nils Dunlop, e-mail: gusdunlni@student.gu.se\n",
    "### Francisco Alejandro Erazo Piza, e-mail: guserafr@student.gu.se\n",
    "### Chukwudumebi Ubogu, e-mail: gusuboch@student.gu.se"
   ],
   "metadata": {
    "collapsed": false
   }
  },
  {
   "cell_type": "markdown",
   "source": [
    "### Part 1: Implement the K-means algorithm\n"
   ],
   "metadata": {
    "collapsed": false
   }
  },
  {
   "cell_type": "code",
   "execution_count": 3,
   "metadata": {
    "ExecuteTime": {
     "end_time": "2023-12-11T14:15:14.589596900Z",
     "start_time": "2023-12-11T14:15:12.134610400Z"
    }
   },
   "outputs": [],
   "source": [
    "# Import libraries\n",
    "import numpy as np\n",
    "import pandas as pd\n",
    "import matplotlib.pyplot as plt\n",
    "from PIL import Image"
   ]
  },
  {
   "cell_type": "code",
   "execution_count": 4,
   "metadata": {
    "ExecuteTime": {
     "end_time": "2023-12-11T14:15:17.269619800Z",
     "start_time": "2023-12-11T14:15:14.595594800Z"
    }
   },
   "outputs": [],
   "source": [
    "# Import iris dataset\n",
    "from sklearn.datasets import load_iris\n",
    "iris = load_iris()\n",
    "X = iris.data"
   ]
  },
  {
   "cell_type": "code",
   "execution_count": 5,
   "metadata": {
    "ExecuteTime": {
     "end_time": "2023-12-11T14:15:17.387612400Z",
     "start_time": "2023-12-11T14:15:17.279621900Z"
    }
   },
   "outputs": [],
   "source": [
    "def kmeans(x, K, n_init):\n",
    "    \"\"\"\n",
    "    Implementation of the K-means clustering algorithm.\n",
    "    \"\"\"\n",
    "    # Initialize centroids randomly\n",
    "    centroids = x[np.random.choice(len(x), K, replace=False)]\n",
    "    labels = np.zeros(len(x))\n",
    "\n",
    "    # Run until convergence\n",
    "    while True:  \n",
    "        prev_labels = labels.copy()\n",
    "\n",
    "        # Assign data points to the nearest centroid\n",
    "        distances = np.linalg.norm(x[:, np.newaxis] - centroids, axis=2)\n",
    "        labels = np.argmin(distances, axis=1)\n",
    "\n",
    "        # Update centroids\n",
    "        centroids = np.array([np.mean(x[labels == k], axis=0) if np.sum(labels == k) > 0 else np.random.rand(x.shape[1]) for k in range(K)])\n",
    "\n",
    "        # Check for convergence\n",
    "        if np.array_equal(prev_labels, labels):\n",
    "            break\n",
    "\n",
    "    return centroids, labels"
   ]
  },
  {
   "cell_type": "markdown",
   "metadata": {},
   "source": [
    "https://www.askpython.com/python/examples/k-means-clustering-from-scratch"
   ]
  },
  {
   "cell_type": "code",
   "execution_count": 6,
   "metadata": {
    "ExecuteTime": {
     "end_time": "2023-12-11T14:15:18.585416600Z",
     "start_time": "2023-12-11T14:15:18.560398900Z"
    }
   },
   "outputs": [
    {
     "name": "stdout",
     "output_type": "stream",
     "text": [
      "Centroids:\n",
      "[[5.006      3.428      1.462      0.246     ]\n",
      " [6.85384615 3.07692308 5.71538462 2.05384615]\n",
      " [5.88360656 2.74098361 4.38852459 1.43442623]]\n",
      "\n",
      "Labels:\n",
      "[0 0 0 0 0 0 0 0 0 0 0 0 0 0 0 0 0 0 0 0 0 0 0 0 0 0 0 0 0 0 0 0 0 0 0 0 0\n",
      " 0 0 0 0 0 0 0 0 0 0 0 0 0 1 2 1 2 2 2 2 2 2 2 2 2 2 2 2 2 2 2 2 2 2 2 2 2\n",
      " 2 2 2 1 2 2 2 2 2 2 2 2 2 2 2 2 2 2 2 2 2 2 2 2 2 2 1 2 1 1 1 1 2 1 1 1 1\n",
      " 1 1 2 2 1 1 1 1 2 1 2 1 2 1 1 2 2 1 1 1 1 1 2 1 1 1 1 2 1 1 1 2 1 1 1 2 1\n",
      " 1 2]\n"
     ]
    }
   ],
   "source": [
    "centroids, labels = kmeans(X, 3, 1000)\n",
    "\n",
    "print(\"Centroids:\")\n",
    "print(centroids)\n",
    "print()\n",
    "print(\"Labels:\")\n",
    "print(labels)"
   ]
  },
  {
   "cell_type": "code",
   "execution_count": 7,
   "metadata": {
    "ExecuteTime": {
     "end_time": "2023-12-11T14:15:22.939533Z",
     "start_time": "2023-12-11T14:15:22.086575200Z"
    }
   },
   "outputs": [
    {
     "data": {
      "text/plain": "<Figure size 640x480 with 1 Axes>",
      "image/png": "[encoded data removed]"
     },
     "metadata": {},
     "output_type": "display_data"
    }
   ],
   "source": [
    "# Visualize the results\n",
    "u_labels = np.unique(labels)\n",
    "\n",
    "for i in u_labels:\n",
    "    plt.scatter(X[labels == i, 0], X[labels == i, 1], label=i)\n",
    "plt.scatter(centroids[:, 0], centroids[:, 1], s=80, color=\"black\", label=\"Centroids\", marker=\"x\")\n",
    "plt.legend(bbox_to_anchor=(1.3, 1), borderaxespad=0)\n",
    "plt.show()"
   ]
  },
  {
   "cell_type": "markdown",
   "metadata": {
    "id": "2amaTQzRJKV-"
   },
   "source": [
    "### *If you run this algorithm multiple times, do you get the same result every time? If so, why; if not, how do you determine which result is the best one?*\n",
    "\n",
    "If we run this algorithm multiple times, we will not get the same result every time. This is because the sensitivity to the initial centroids, so the algorithm will converge to different local minima, that is, different initilizations of the centroids will lead to a different local minima. To determine which result is the best one, we can use the elbow method to determine the optimal number of clusters. The elbow method involves plotting the sum of squared errors (SSE) for different values of K. The elbow in the curve indicates the optimal value of K.\n"
   ]
  },
  {
   "cell_type": "markdown",
   "metadata": {},
   "source": [
    "### *How do you choose what K value to use?*\n",
    "The Elbow Method involves plotting the sum of squared errors (SSE) for different values of K. The elbow in the curve indicates the optimal value of K. The optimal K value is the value that is at the inflection point on the curve where the SSE begins to decrease in a linear way. It consists of the following steps:\n",
    "1. Run the K-means clustering algorithm for a range of K values (e.g. K=1 to 10)\n",
    "2. For each value of K, calculate the sum of squared errors (SSE)\n",
    "3. Plot SSE vs K (number of clusters)\n",
    "4. Identify the elbow in the plot (the point where the SSE curve starts to bend) and select this as the best K value for the data.\n",
    "\n",
    "Another method is the Silhouette method. The silhouette value measures how similar a point is to its own cluster (cohesion) compared to other clusters (separation). The range of the Silhouette value is between +1 and -1. A high value is desirable and indicates that the point is placed in the correct cluster. If many points have a negative Silhouette value, it may indicate that we have created too many or too few clusters."
   ]
  },
  {
   "cell_type": "markdown",
   "metadata": {},
   "source": [
    "### *Implement both SSE and the Silhouette score; use them to address these questions.*\n"
   ]
  },
  {
   "cell_type": "code",
   "execution_count": 8,
   "metadata": {
    "ExecuteTime": {
     "end_time": "2023-12-11T14:15:58.627385200Z",
     "start_time": "2023-12-11T14:15:58.569316800Z"
    }
   },
   "outputs": [],
   "source": [
    "# Implementing SSE\n",
    "def calculate_sse(x, centroids, labels):\n",
    "    sse = np.sum((x - centroids[labels])**2)\n",
    "    return sse\n",
    "\n",
    "# Calculate SSE\n",
    "sse = calculate_sse(X, centroids, labels)\n",
    "print(f'SSE: {sse}')"
   ]
  },
  {
   "cell_type": "code",
   "execution_count": 10,
   "metadata": {
    "ExecuteTime": {
     "end_time": "2023-12-11T14:16:22.962889600Z",
     "start_time": "2023-12-11T14:16:22.943885100Z"
    }
   },
   "outputs": [],
   "source": [
    "# Elbow Method\n",
    "def plot_elbow_method(data, max_k, n_init=10):\n",
    "    sse_values = []\n",
    "\n",
    "    for k in range(1, max_k + 1):\n",
    "        sse = 0\n",
    "\n",
    "        for _ in range(n_init):\n",
    "            centroids, labels = kmeans(data, k, n_init=10)\n",
    "            sse += calculate_sse(data, centroids, labels)\n",
    "\n",
    "        sse_values.append(sse / n_init)\n",
    "\n",
    "    # Plot\n",
    "    plt.plot(range(1, max_k + 1), sse_values, marker='o')\n",
    "    plt.xlabel('Number of Clusters (K)')\n",
    "    plt.ylabel('Sum of Squared Errors (SSE)')\n",
    "    plt.title('Elbow Method')\n",
    "    plt.show()"
   ]
  },
  {
   "cell_type": "code",
   "execution_count": 11,
   "metadata": {
    "ExecuteTime": {
     "end_time": "2023-12-11T14:16:28.015485500Z",
     "start_time": "2023-12-11T14:16:24.978217100Z"
    }
   },
   "outputs": [
    {
     "data": {
      "text/plain": "<Figure size 640x480 with 1 Axes>",
      "image/png": "[encoded data removed]"
     },
     "metadata": {},
     "output_type": "display_data"
    }
   ],
   "source": [
    "plot_elbow_method(X, 15, n_init=50)"
   ]
  },
  {
   "cell_type": "code",
   "execution_count": 12,
   "metadata": {
    "ExecuteTime": {
     "end_time": "2023-12-11T14:17:13.707147900Z",
     "start_time": "2023-12-11T14:17:13.671155Z"
    }
   },
   "outputs": [],
   "source": [
    "# Implementing the Silhouette Score\n",
    "def calculate_silhouette_score(x, labels):\n",
    "    \"\"\"\n",
    "    Calculate the silhouette score for a given clustering.\n",
    "    \"\"\"\n",
    "    num_samples = len(x)\n",
    "    silhouette_values = np.zeros(num_samples)\n",
    "\n",
    "    for i in range(num_samples):\n",
    "        # Calculate the average distance from each sample to all other samples in the same cluster\n",
    "        intra_cluster_dist = np.mean(np.linalg.norm(x[labels == labels[i]] - x[i], axis=1))\n",
    "\n",
    "        # Calculate the average distance from each sample to all samples in the nearest other cluster\n",
    "        other_clusters_dist = np.min([np.mean(np.linalg.norm(x[labels == k] - x[i], axis=1)) for k in set(labels) if k != labels[i]])\n",
    "\n",
    "        # Calculate the silhouette score for each sample\n",
    "        silhouette_values[i] = (other_clusters_dist - intra_cluster_dist) / max(other_clusters_dist, intra_cluster_dist)\n",
    "\n",
    "    # Calculate the overall silhouette score\n",
    "    silhouette = np.mean(silhouette_values)\n",
    "    \n",
    "    return silhouette"
   ]
  },
  {
   "cell_type": "code",
   "execution_count": 13,
   "metadata": {
    "ExecuteTime": {
     "end_time": "2023-12-11T14:17:15.131749800Z",
     "start_time": "2023-12-11T14:17:15.039716900Z"
    }
   },
   "outputs": [
    {
     "name": "stdout",
     "output_type": "stream",
     "text": [
      "Silhouette Score: 0.5601417195128096\n"
     ]
    }
   ],
   "source": [
    "silhouette = calculate_silhouette_score(X, labels)\n",
    "print(f'Silhouette Score: {silhouette}')"
   ]
  },
  {
   "cell_type": "markdown",
   "metadata": {},
   "source": [
    "### *Discuss the similarities and differences between 1) K-means, 2) Gaussian Mixture Models (GMM) and 3) the Gaussian naive Bayes classifier in terms of their assumptions and parameter estimation methods. In particular, write down the implications of each assumption (e.g., x and y are assumed to be independent, and therefore we have ....).  You can choose to write your answers as Python code, pseudo code or mathematical equations.*\n",
    "**K-means**\n",
    "\n",
    "Assumptions:\n",
    "\n",
    "- K-means assumes that clusters are spherical and equally sized with the centroid being the center of the sphere.\n",
    "- Assumes that all clusters have equal variance (homodedasticity).\n",
    "- Assigns each data point exclusively to one cluster, which can lead to misclassifications if the true underlying structure involves overlapping clusters.\n",
    "- The number of clusters is assumed to be known in advance.\n",
    "\n",
    "Parameter Estimation:\n",
    "- Centroids: They are estimated by iteratively updating the mean of the data points assigned to each cluster.\n",
    "- Labels: Assign each data point to the cluster with the nearest centroid.\n",
    "\n",
    "Implications:\n",
    "- Clusters with non-spherical shapes can be poorly represented by centroids.\n",
    "- Variance differences between features can affect the assignment of clusters.\n",
    "- If clusters have different sizes, K-means might not represent them accurately, preferring clusters with more points.\n",
    "- Features with much larger variances can dominate the distance metric, making the algorithm biased towards those features.\n",
    "- The algorithm is sensitive to the initial selection of centroids.\n",
    "- In real world scenarios, the number of cluster is not known in advance. There is no one defined true number of cluster, it has to be determined from methods, data-based criteria and knowledge of the domain.\n",
    "\n",
    "**Gaussian Mixture Models (GMM)**:\n",
    "\n",
    "Assumptions:\n",
    "- Data points are generated from a mixture of a finite number of Gaussian distributions with unknown parameters. \n",
    "- GMM assumes that clusters can be elliptical and can have different sizes. \n",
    "- Within a cluster, the shape of the data is defined by a covariance matrix, which is assumed to be the same for all clusters.\n",
    "- In GMM, a point can belong to different clusters with different levels of membership (probabilities).\n",
    "\n",
    "Parameter Estimation:\n",
    "- Means, Covariances, Weights: Estimated through the Expectation-Maximization (EM) algorithm. The algorithm iteratively updates the mean, covariance, and weight parameters to maximize the likelihood of the data.\n",
    "\n",
    "Implications:\n",
    "- GMM can capture more complex cluster structures and sizes, also overlapping clusters.\n",
    "- GMM is more computationally expensive than K-means.\n",
    "\n",
    "\n",
    "**Gaussian Naive Bayes Classifier**:\n",
    "Assumptions:\n",
    "- Features are assumed to be conditionally independent given the class label, which means that knowing the value of one feature doesn’t change our belief about any other feature given the class.\n",
    "- Features are assumed to be normally distributed (Gaussian), which is a strong assumption about the data structure.\n",
    "- The prior probabilities of classes are either uniform (assumed to be equal) or can be estimated from the training dataset.\n",
    "\n",
    "Parameter Estimation:\n",
    "- Mean and Variance for Each Feature in Each Class: Estimated from the training data. The mean and variance of each feature are calculated for each class.\n",
    "\n",
    "Implications:\n",
    "- The independence assumption simplifies the computation and ignores potential interactions between features. However is often violated in real world scenarios.\n",
    "- The model tends to perform well even when this assumption is violated if the dataset is large enough or if the dependencies between features do not discriminate between classes.\n",
    "- Gaussian distribution assumption may not hold for all features, which can negatively affect the model's performance if features have different distributions."
   ]
  },
  {
   "cell_type": "markdown",
   "metadata": {
    "id": "hv2NZVYVBEx5"
   },
   "source": [
    "### Part 2: Apply the K-means algorithm to compress images"
   ]
  },
  {
   "cell_type": "code",
   "execution_count": null,
   "outputs": [],
   "source": [],
   "metadata": {
    "collapsed": false
   }
  },
  {
   "cell_type": "markdown",
   "metadata": {
    "id": "qmneF3xEBGqX"
   },
   "source": [
    "### Part 3 Use AIC and BIC to choose K for Gaussian Mixture Models"
   ]
  },
  {
   "cell_type": "markdown",
   "metadata": {},
   "source": [
    "### References:\n",
    "- Silhouette (clustering) (2023). Available at: https://en.wikipedia.org/wiki/Silhouette_%28clustering%29 (Accessed: 10 December 2023).\n",
    "- Selecting the number of clusters with silhouette analysis on KMeans clustering (2023). Available at: https://scikit-learn.org/stable/auto_examples/cluster/plot_kmeans_silhouette_analysis.html (Accessed: 10 December 2023).\n",
    "- Elbow method (clustering) (2023). Available at: https://en.wikipedia.org/wiki/Elbow_method_%28clustering%29 (Accessed: 10 December 2023).\n",
    "- Elbow method (clustering) (2023). Available at: https://handwiki.org/wiki/Elbow_method_%28clustering%29 (Accessed: 10 December 2023).\n",
    "- Elbow Method for optimal value of k in KMeans (2023). Available at: https://www.geeksforgeeks.org/elbow-method-for-optimal-value-of-k-in-kmeans/ (Accessed: 10 December 2023).\n",
    "- Demonstration of k-means assumptions (2023). Available at: https://scikit-learn.org/stable/auto_examples/cluster/plot_kmeans_assumptions.html (Accessed: 10 December 2023).\n",
    "- k-means clustering (2023). Available at: https://en.wikipedia.org/wiki/K-means_clustering (Accessed: 10 December 2023).\n",
    "- Gaussian Mixture Model: A Comprehensive Guide to Understanding and Implementing GMM from Scratch | Towards Data Science (2023). Available at: https://towardsdatascience.com/gaussian-mixture-model-clearly-explained-115010f7d4cf (Accessed: 10 December 2023).\n",
    "- Naive Bayes classifier (2023). Available at: https://en.wikipedia.org/wiki/Naive_Bayes_classifier (Accessed: 10 December 2023).\n",
    "- Ssurajjoshdylhsurajjoshdylh. Gaussian Naive Bayes (2023). Available at: https://www.geeksforgeeks.org/gaussian-naive-bayes/ (Accessed: 10 December 2023).\n",
    "\n",
    "\n",
    "\n"
   ]
  }
 ],
 "metadata": {
  "colab": {
   "provenance": []
  },
  "kernelspec": {
   "name": "python3",
   "language": "python",
   "display_name": "Python 3 (ipykernel)"
  },
  "language_info": {
   "codemirror_mode": {
    "name": "ipython",
    "version": 3
   },
   "file_extension": ".py",
   "mimetype": "text/x-python",
   "name": "python",
   "nbconvert_exporter": "python",
   "pygments_lexer": "ipython3",
   "version": "3.11.5"
  }
 },
 "nbformat": 4,
 "nbformat_minor": 0
}
