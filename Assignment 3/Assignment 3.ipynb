{
 "cells": [
  {
   "cell_type": "markdown",
   "source": [
    "# Assignment 3: Clustering Models\n",
    "## Group Members:\n",
    "* ### Nils Dunlop, e-mail: gusdunlni@student.gu.se\n",
    "* ### Francisco Alejandro Erazo Piza, e-mail: guserafr@student.gu.se\n",
    "* ### Chukwudumebi Ubogu, e-mail: gusuboch@student.gu.se"
   ],
   "metadata": {
    "collapsed": false
   },
   "id": "3a644cc1ee3594ca"
  },
  {
   "cell_type": "markdown",
   "source": [
    "### Part 1: Implement the K-means algorithm"
   ],
   "metadata": {
    "collapsed": false
   },
   "id": "c848c7634287470c"
  },
  {
   "cell_type": "code",
   "execution_count": null,
   "outputs": [],
   "source": [],
   "metadata": {
    "collapsed": false
   },
   "id": "1cc940d0b661ddaa"
  },
  {
   "cell_type": "markdown",
   "source": [
    "### Part 2: Apply the K-means algorithm to compress images"
   ],
   "metadata": {
    "collapsed": false
   },
   "id": "fdb6f02aef8df79"
  },
  {
   "cell_type": "code",
   "execution_count": null,
   "outputs": [],
   "source": [],
   "metadata": {
    "collapsed": false
   },
   "id": "25aa556e5084c0f1"
  },
  {
   "cell_type": "markdown",
   "source": [
    "### Part 3 Use AIC and BIC to choose K for Gaussian Mixture Models"
   ],
   "metadata": {
    "collapsed": false
   },
   "id": "56feb8fa53c18c57"
  },
  {
   "cell_type": "code",
   "execution_count": null,
   "outputs": [],
   "source": [],
   "metadata": {
    "collapsed": false
   },
   "id": "76d00785892787b3"
  }
 ],
 "metadata": {
  "kernelspec": {
   "display_name": "Python 3",
   "language": "python",
   "name": "python3"
  },
  "language_info": {
   "codemirror_mode": {
    "name": "ipython",
    "version": 2
   },
   "file_extension": ".py",
   "mimetype": "text/x-python",
   "name": "python",
   "nbconvert_exporter": "python",
   "pygments_lexer": "ipython2",
   "version": "2.7.6"
  }
 },
 "nbformat": 4,
 "nbformat_minor": 5
}
