{
 "cells": [
  {
   "cell_type": "markdown",
   "source": [
    "# Project: Swedish Municipality KPI Analysis\n",
    "## Group Members:\n",
    "### Nils Dunlop, e-mail: gusdunlni@student.gu.se\n",
    "### Francisco Alejandro Erazo Piza, e-mail: guserafr@student.gu.se\n",
    "### Chukwudumebi Ubogu, e-mail: gusuboch@student.gu.se"
   ],
   "metadata": {
    "collapsed": false
   },
   "id": "918aa507765980f5"
  },
  {
   "cell_type": "markdown",
   "source": [
    "### Problem Description"
   ],
   "metadata": {
    "collapsed": false
   },
   "id": "538df00f8d3c2787"
  },
  {
   "cell_type": "markdown",
   "source": [
    "* What is the purpose of your study?\n",
    "* Are there errors in the dataset? How did you deal with them? Explain your process and the reasoning behind it. \n",
    "* What are the (statistical) data types of the columns in your dataset? \n",
    "* Use a Q-Q plot to compare the distributions of different groups. What you are trying to observe? Why is it is important? Describe the results."
   ],
   "metadata": {
    "collapsed": false
   },
   "id": "c5ade831572e10c9"
  },
  {
   "cell_type": "code",
   "execution_count": null,
   "outputs": [],
   "source": [],
   "metadata": {
    "collapsed": false
   },
   "id": "42faebb1f7693543"
  },
  {
   "cell_type": "markdown",
   "source": [
    "### Exploratory Data Analysis"
   ],
   "metadata": {
    "collapsed": false
   },
   "id": "2b42ede6d001e202"
  },
  {
   "cell_type": "markdown",
   "source": [
    "* Show the histogram of some selected KPIs and describe your observation.\n",
    "* Show the dependence of some selected variables and describe your observation.\n",
    "* Describe the data using its range, sample mean, sample standard deviation and some quantiles. Describe your observation.\n",
    "* Choose another visualization method to explore the data set.\n",
    "* Draw conclusion from your exploratory analysis"
   ],
   "metadata": {
    "collapsed": false
   },
   "id": "a4e9abbf842d4101"
  },
  {
   "cell_type": "code",
   "execution_count": null,
   "outputs": [],
   "source": [],
   "metadata": {
    "collapsed": false
   },
   "id": "ec1197bafa182afb"
  },
  {
   "cell_type": "markdown",
   "source": [
    "### Probability Distribution"
   ],
   "metadata": {
    "collapsed": false
   },
   "id": "94ec643f89e0a324"
  },
  {
   "cell_type": "markdown",
   "source": [
    "* Use probability distributions to describe some selected variables. State why they are interesting to look at and describe your observation.\n",
    "* What are the parameters in the distribution? Estimate these parameters.\n",
    "* Use hypothesis testing to show some interesting conclusions."
   ],
   "metadata": {
    "collapsed": false
   },
   "id": "2c8adf00cda88dde"
  },
  {
   "cell_type": "code",
   "execution_count": null,
   "outputs": [],
   "source": [],
   "metadata": {
    "collapsed": false
   },
   "id": "9d47b0f29f8e1b4a"
  },
  {
   "cell_type": "markdown",
   "source": [
    "### Predictive Analysis"
   ],
   "metadata": {
    "collapsed": false
   },
   "id": "1201caae868ca8bb"
  },
  {
   "cell_type": "markdown",
   "source": [
    "* Apply two predictive machine learning models to solve your problem. You can use anything from scikit learn or other libraries.\n",
    "* Evaluate their performance. Which one do you prefer and why? Conduct hypothesis testing to answer this question."
   ],
   "metadata": {
    "collapsed": false
   },
   "id": "396663a289e82c70"
  },
  {
   "cell_type": "code",
   "execution_count": null,
   "outputs": [],
   "source": [],
   "metadata": {
    "collapsed": false
   },
   "id": "934cb4431d77b334"
  },
  {
   "cell_type": "markdown",
   "source": [
    "### Conclusion"
   ],
   "metadata": {
    "collapsed": false
   },
   "id": "88f5ea461a0c5b8e"
  },
  {
   "cell_type": "markdown",
   "source": [
    "* State again your problem and the motivation.\n",
    "* Draw a final conclusion.\n",
    "* If you keep working on this project, what would be the next step?   "
   ],
   "metadata": {
    "collapsed": false
   },
   "id": "a8b0a974b206313"
  },
  {
   "cell_type": "code",
   "execution_count": null,
   "outputs": [],
   "source": [],
   "metadata": {
    "collapsed": false
   },
   "id": "3a33c544f55a9b6b"
  },
  {
   "cell_type": "markdown",
   "source": [
    "### References:\n",
    "- Silhouette (clustering) (2023). Available at: https://en.wikipedia.org/wiki/Silhouette_%28clustering%29 (Accessed: 10 December 2023)."
   ],
   "metadata": {
    "collapsed": false
   },
   "id": "df3e00e63d325a62"
  },
  {
   "cell_type": "code",
   "execution_count": null,
   "outputs": [],
   "source": [],
   "metadata": {
    "collapsed": false
   },
   "id": "a7a7646d95a71126"
  }
 ],
 "metadata": {
  "kernelspec": {
   "display_name": "Python 3",
   "language": "python",
   "name": "python3"
  },
  "language_info": {
   "codemirror_mode": {
    "name": "ipython",
    "version": 2
   },
   "file_extension": ".py",
   "mimetype": "text/x-python",
   "name": "python",
   "nbconvert_exporter": "python",
   "pygments_lexer": "ipython2",
   "version": "2.7.6"
  }
 },
 "nbformat": 4,
 "nbformat_minor": 5
}
