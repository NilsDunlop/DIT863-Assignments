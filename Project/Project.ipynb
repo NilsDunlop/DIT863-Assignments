{
 "cells": [
  {
   "cell_type": "markdown",
   "source": [
    "# Project: Swedish Municipality KPI Analysis\n",
    "## Group Members:\n",
    "### Nils Dunlop, e-mail: gusdunlni@student.gu.se\n",
    "### Francisco Alejandro Erazo Piza, e-mail: guserafr@student.gu.se\n",
    "### Chukwudumebi Ubogu, e-mail: gusuboch@student.gu.se"
   ],
   "metadata": {
    "collapsed": false
   },
   "id": "918aa507765980f5"
  },
  {
   "cell_type": "markdown",
   "source": [
    "### Problem Description"
   ],
   "metadata": {
    "collapsed": false
   },
   "id": "538df00f8d3c2787"
  },
  {
   "cell_type": "markdown",
   "source": [
    "* What is the purpose of your study?\n",
    "* Are there errors in the dataset? How did you deal with them? Explain your process and the reasoning behind it. \n",
    "* What are the (statistical) data types of the columns in your dataset? \n",
    "* Use a Q-Q plot to compare the distributions of different groups. What you are trying to observe? Why is it is important? Describe the results."
   ],
   "metadata": {
    "collapsed": false
   },
   "id": "c5ade831572e10c9"
  },
  {
   "cell_type": "code",
   "execution_count": 3,
   "outputs": [
    {
     "data": {
      "text/plain": "(        id                                              title  \\\n 0   N00000  Personalkostnader som andel av verksamhetens k...   \n 1   N00003                          Personalkostnader, kr/inv   \n 2   N00005     Utjämningssystemet enl resultaträkning, kr/inv   \n 3   N00009                   Intäkter kommunen totalt, kr/inv   \n 4   N00011  Inkomstutjämning, bidrag/avgift, kr/inv. 1 nov...   \n 5   N00012           Kostnadsutjämning, bidrag/avgift, kr/inv   \n 6   N00014            Regleringsbidrag/avgift, kr/inv (2005-)   \n 7   N00016                 Utjämningssystemet enl SCB, kr/inv   \n 8   N00018                    Införandebidrag, kr/inv (2005-)   \n 9   N00019                     Strukturbidrag, kr/inv (2005-)   \n 10  N00021               Intäkter egentlig verksamhet, kr/inv   \n 11  N00022  Kostnadsutjämningsnetto förskola och skolbarns...   \n 12  N00023  Kostnadsutjämningsnetto grundskola, kr/inv 1 n...   \n 13  N00024  Kostnadsutjämningsnetto äldreomsorg, kr/inv 1 ...   \n 14  N00025  Kostnadsutjämningsnetto individ- och familjeom...   \n \n                                           description municipality_type  \\\n 0   Personalkostnader kommunen totalt, dividerat m...                 K   \n 1   Personalkostnader kommunen totalt, dividerat m...                 K   \n 2   Kommunalekonomisk utjämning kommun, dividerat ...                 K   \n 3   Externa intäkter exklusive intäkter från försä...                 K   \n 4   Inkomstutjämning, bidrag/avgift, i kronor per ...                 K   \n 5   Kostnadsutjämning, bidrag/avgift, i kronor per...                 K   \n 6   Regleringsbidrag/avgift, i kronor per invånare...                 K   \n 7     Utjämningssystemet enl SCB, kr/inv. Källa: SCB.                 K   \n 8   Införandebidrag, i kronor per invånare den 1/1...                 K   \n 9   Strukturbidrag, i kronor per invånare den 1/11...                 K   \n 10  Externa intäkter exklusive intäkter från försä...                 K   \n 11  Kostnadsutjämningsnetto förskola och skolbarno...                 K   \n 12  Kostnadsutjämningsnetto grundskola beräknas so...                 K   \n 13  Kostnadsutjämningsnetto äldreomsorg beräknas s...                 K   \n 14  Kostnadsutjämningsnetto individ- och familjeom...                 K   \n \n     is_divided_by_gender  publ_period publication_date  \n 0                      0          NaN              NaN  \n 1                      0       2023.0       2024-08-31  \n 2                      0       2023.0       2024-08-31  \n 3                      0       2023.0       2024-02-22  \n 4                      0       2024.0       2023-12-21  \n 5                      0       2024.0       2023-12-21  \n 6                      0       2024.0       2023-12-21  \n 7                      0       2024.0       2023-12-21  \n 8                      0       2024.0       2023-12-21  \n 9                      0       2024.0       2023-12-21  \n 10                     0       2023.0       2024-08-31  \n 11                     0       2024.0       2023-12-21  \n 12                     0       2024.0       2023-12-21  \n 13                     0       2024.0       2023-12-21  \n 14                     0       2024.0       2023-12-21  ,\n        kpi  municipality  period gender      value\n 0   N00125             0    2005      K   413614.9\n 1   N00125             0    2005      M   608000.4\n 2   N00125             0    2005      T  1026487.7\n 3   N00125             1    2005      K   112430.4\n 4   N00125             1    2005      M   164647.6\n 5   N00125             1    2005      T   278913.2\n 6   N00125             3    2005      K    13403.7\n 7   N00125             3    2005      M    17150.8\n 8   N00125             3    2005      T    30674.2\n 9   N00125             4    2005      K    10107.8\n 10  N00125             4    2005      M    13895.1\n 11  N00125             4    2005      T    24055.6\n 12  N00125             5    2005      K    16792.9\n 13  N00125             5    2005      M    26139.6\n 14  N00125             5    2005      T    43049.2,\n       id       title type\n 0   1440         Ale    K\n 1   1489    Alingsås    K\n 2    764     Alvesta    K\n 3    604       Aneby    K\n 4   1984      Arboga    K\n 5   2506    Arjeplog    K\n 6   2505  Arvidsjaur    K\n 7   1784      Arvika    K\n 8   1882   Askersund    K\n 9   2084      Avesta    K\n 10  1460  Bengtsfors    K\n 11  2326        Berg    K\n 12  2403    Bjurholm    K\n 13  1260        Bjuv    K\n 14  2582       Boden    K)"
     },
     "execution_count": 3,
     "metadata": {},
     "output_type": "execute_result"
    }
   ],
   "source": [
    "import pandas as pd\n",
    "\n",
    "# Load the datasets\n",
    "kpi_data_path = 'data/kpi_data.csv'\n",
    "kpi_values_path = 'data/kpi_values.csv'\n",
    "municipalities_data_path = 'data/municipalities_data.csv'\n",
    "\n",
    "# Read the data\n",
    "kpi_data = pd.read_csv(kpi_data_path)\n",
    "kpi_values = pd.read_csv(kpi_values_path)\n",
    "municipalities_data = pd.read_csv(municipalities_data_path)\n",
    "\n",
    "# Displaying the first few rows of each dataset\n",
    "kpi_data_head = kpi_data.head(15)\n",
    "kpi_values_head = kpi_values.head(15)\n",
    "municipalities_data_head = municipalities_data.head(15)\n",
    "\n",
    "(kpi_data_head, kpi_values_head, municipalities_data_head)"
   ],
   "metadata": {
    "collapsed": false,
    "ExecuteTime": {
     "end_time": "2023-12-27T18:43:00.590934Z",
     "start_time": "2023-12-27T18:42:54.121607100Z"
    }
   },
   "id": "42faebb1f7693543"
  },
  {
   "cell_type": "markdown",
   "source": [
    "### Exploratory Data Analysis"
   ],
   "metadata": {
    "collapsed": false
   },
   "id": "2b42ede6d001e202"
  },
  {
   "cell_type": "markdown",
   "source": [
    "* Show the histogram of some selected KPIs and describe your observation.\n",
    "* Show the dependence of some selected variables and describe your observation.\n",
    "* Describe the data using its range, sample mean, sample standard deviation and some quantiles. Describe your observation.\n",
    "* Choose another visualization method to explore the data set.\n",
    "* Draw conclusion from your exploratory analysis"
   ],
   "metadata": {
    "collapsed": false
   },
   "id": "a4e9abbf842d4101"
  },
  {
   "cell_type": "code",
   "execution_count": null,
   "outputs": [],
   "source": [],
   "metadata": {
    "collapsed": false
   },
   "id": "ec1197bafa182afb"
  },
  {
   "cell_type": "markdown",
   "source": [
    "### Probability Distribution"
   ],
   "metadata": {
    "collapsed": false
   },
   "id": "94ec643f89e0a324"
  },
  {
   "cell_type": "markdown",
   "source": [
    "* Use probability distributions to describe some selected variables. State why they are interesting to look at and describe your observation.\n",
    "* What are the parameters in the distribution? Estimate these parameters.\n",
    "* Use hypothesis testing to show some interesting conclusions."
   ],
   "metadata": {
    "collapsed": false
   },
   "id": "2c8adf00cda88dde"
  },
  {
   "cell_type": "code",
   "execution_count": null,
   "outputs": [],
   "source": [],
   "metadata": {
    "collapsed": false
   },
   "id": "9d47b0f29f8e1b4a"
  },
  {
   "cell_type": "markdown",
   "source": [
    "### Predictive Analysis"
   ],
   "metadata": {
    "collapsed": false
   },
   "id": "1201caae868ca8bb"
  },
  {
   "cell_type": "markdown",
   "source": [
    "* Apply two predictive machine learning models to solve your problem. You can use anything from scikit learn or other libraries.\n",
    "* Evaluate their performance. Which one do you prefer and why? Conduct hypothesis testing to answer this question."
   ],
   "metadata": {
    "collapsed": false
   },
   "id": "396663a289e82c70"
  },
  {
   "cell_type": "code",
   "execution_count": null,
   "outputs": [],
   "source": [],
   "metadata": {
    "collapsed": false
   },
   "id": "934cb4431d77b334"
  },
  {
   "cell_type": "markdown",
   "source": [
    "### Conclusion"
   ],
   "metadata": {
    "collapsed": false
   },
   "id": "88f5ea461a0c5b8e"
  },
  {
   "cell_type": "markdown",
   "source": [
    "* State again your problem and the motivation.\n",
    "* Draw a final conclusion.\n",
    "* If you keep working on this project, what would be the next step?   "
   ],
   "metadata": {
    "collapsed": false
   },
   "id": "a8b0a974b206313"
  },
  {
   "cell_type": "code",
   "execution_count": null,
   "outputs": [],
   "source": [],
   "metadata": {
    "collapsed": false
   },
   "id": "3a33c544f55a9b6b"
  },
  {
   "cell_type": "markdown",
   "source": [
    "### References:\n",
    "- Silhouette (clustering) (2023). Available at: https://en.wikipedia.org/wiki/Silhouette_%28clustering%29 (Accessed: 10 December 2023)."
   ],
   "metadata": {
    "collapsed": false
   },
   "id": "df3e00e63d325a62"
  },
  {
   "cell_type": "code",
   "execution_count": null,
   "outputs": [],
   "source": [],
   "metadata": {
    "collapsed": false
   },
   "id": "a7a7646d95a71126"
  }
 ],
 "metadata": {
  "kernelspec": {
   "display_name": "Python 3",
   "language": "python",
   "name": "python3"
  },
  "language_info": {
   "codemirror_mode": {
    "name": "ipython",
    "version": 2
   },
   "file_extension": ".py",
   "mimetype": "text/x-python",
   "name": "python",
   "nbconvert_exporter": "python",
   "pygments_lexer": "ipython2",
   "version": "2.7.6"
  }
 },
 "nbformat": 4,
 "nbformat_minor": 5
}
