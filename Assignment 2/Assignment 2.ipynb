{
 "cells": [
  {
   "cell_type": "markdown",
   "id": "54579eafefd55407",
   "metadata": {
    "collapsed": false
   },
   "source": [
    "# Assignment 2: Naive Bayes Classifier\n",
    "## Group Members:\n",
    "* ### Nils Dunlop, e-mail: gusdunlni@student.gu.se\n",
    "* ### Francisco Alejandro Erazo Piza, e-mail: guserafr@student.gu.se\n",
    "* ### Chukwudumebi Ubogu, e-mail: gusuboch@student.gu.se"
   ]
  },
  {
   "cell_type": "markdown",
   "id": "1c46f3b8c5fc333b",
   "metadata": {
    "collapsed": false
   },
   "source": [
    "## Preparatory remarks"
   ]
  },
  {
   "cell_type": "markdown",
   "id": "c75c46eb991b4feb",
   "metadata": {
    "collapsed": false
   },
   "source": [
    "### Frequency-counting in Python."
   ]
  },
  {
   "cell_type": "code",
   "execution_count": 575,
   "id": "25799c9a77429e34",
   "metadata": {
    "collapsed": false,
    "ExecuteTime": {
     "end_time": "2023-11-29T15:13:26.826334800Z",
     "start_time": "2023-11-29T15:13:26.534732500Z"
    }
   },
   "outputs": [],
   "source": [
    "from collections import Counter\n",
    "import numpy as np\n",
    "import pandas as pd\n",
    "import matplotlib.pyplot as plt\n",
    "import seaborn as sns\n",
    "\n",
    "def read_documents(doc_file):\n",
    "    \"\"\"\n",
    "    Reads a document and returns a list of documents and their corresponding labels.\n",
    "    \"\"\"\n",
    "    docs = []\n",
    "    labels = []\n",
    "    categories = []\n",
    "    with open(doc_file, encoding='utf-8') as f:\n",
    "        for line in f:\n",
    "            words = line.strip().split()\n",
    "            docs.append(words[3:])\n",
    "            labels.append(words[1])\n",
    "            categories.append(words[0]) # Used in domain sensitivity section\n",
    "    return docs, labels, categories"
   ]
  },
  {
   "cell_type": "markdown",
   "id": "432d8b647ce746b2",
   "metadata": {
    "collapsed": false
   },
   "source": [
    "### Reading the review data"
   ]
  },
  {
   "cell_type": "code",
   "execution_count": 576,
   "id": "74cb4576eb34d477",
   "metadata": {
    "collapsed": false,
    "ExecuteTime": {
     "end_time": "2023-11-29T15:13:26.845941400Z",
     "start_time": "2023-11-29T15:13:26.552364300Z"
    }
   },
   "outputs": [],
   "source": [
    "def split_data(doc_file, train_split=0.8):\n",
    "    \"\"\"\n",
    "    Splits the data into training and validation sets.\n",
    "    \"\"\"\n",
    "    all_docs, all_labels, all_categories = read_documents(doc_file)\n",
    "    split_point = int(train_split * len(all_docs))\n",
    "    train_docs = all_docs[:split_point]\n",
    "    train_labels = all_labels[:split_point]\n",
    "    val_docs = all_docs[split_point:]\n",
    "    val_labels = all_labels[split_point:]\n",
    "    return train_docs, train_labels, val_docs, val_labels, all_docs, all_labels, all_categories"
   ]
  },
  {
   "cell_type": "markdown",
   "id": "7c55fbd09ecd4e33",
   "metadata": {
    "collapsed": false
   },
   "source": [
    "### Estimating parameters for the Naive Bayes classifier"
   ]
  },
  {
   "cell_type": "code",
   "execution_count": 577,
   "id": "650f7e1ff48a8e9e",
   "metadata": {
    "collapsed": false,
    "ExecuteTime": {
     "end_time": "2023-11-29T15:13:28.020289700Z",
     "start_time": "2023-11-29T15:13:26.575359Z"
    }
   },
   "outputs": [
    {
     "data": {
      "text/plain": "([('sappy', {'pos': -11.766647363338413, 'neg': -11.15274829148272}),\n  ('sentenses', {'pos': -13.558406832566469, 'neg': -12.857496383721145}),\n  ('.they', {'pos': -12.865259652006523, 'neg': -13.55064356428109}),\n  ('unsure', {'pos': -11.948968920132367, 'neg': -11.94120565184699}),\n  ('invariably', {'pos': -12.172112471446578, 'neg': -11.758884095053036})],\n {'pos': -0.6761896870922498, 'neg': -0.7103971982200179})"
     },
     "execution_count": 577,
     "metadata": {},
     "output_type": "execute_result"
    }
   ],
   "source": [
    "def train_nb(documents, labels):\n",
    "    \"\"\"\n",
    "    Trains a Naive Bayes classifier given the documents and labels.\n",
    "    Returns a model containing log probabilities.\n",
    "    \"\"\"\n",
    "    # Initialize counters for each class and a counter for all words\n",
    "    pos_counter = Counter()\n",
    "    neg_counter = Counter()\n",
    "    all_words = set()\n",
    "\n",
    "    # Count word frequencies per class\n",
    "    for doc, label in zip(documents, labels):\n",
    "        if label == 'pos':\n",
    "            pos_counter.update(doc)\n",
    "        elif label == 'neg':\n",
    "            neg_counter.update(doc)\n",
    "        all_words.update(doc)\n",
    "\n",
    "    # Total count of words in each class\n",
    "    total_pos = sum(pos_counter.values())\n",
    "    total_neg = sum(neg_counter.values())\n",
    "\n",
    "    # Vocabulary size\n",
    "    V = len(all_words)\n",
    "\n",
    "    # Calculate log probabilities with Laplace smoothing\n",
    "    log_probs = {}\n",
    "    for word in all_words:\n",
    "        # Apply laplace smoothing\n",
    "        log_prob_pos = np.log((pos_counter[word] + 1) / (total_pos + V))\n",
    "        log_prob_neg = np.log((neg_counter[word] + 1) / (total_neg + V))\n",
    "        log_probs[word] = {'pos': log_prob_pos, 'neg': log_prob_neg}\n",
    "\n",
    "    # Calculate the log probabilities of each class\n",
    "    num_pos = sum(1 for l in labels if l == 'pos')\n",
    "    num_neg = sum(1 for l in labels if l == 'neg')\n",
    "\n",
    "    prob_pos = num_pos / len(labels)\n",
    "    prob_neg = num_neg / len(labels)\n",
    "\n",
    "    log_prob_pos_class = np.log(prob_pos)\n",
    "    log_prob_neg_class = np.log(prob_neg)\n",
    "\n",
    "    log_prob_class = {'pos': log_prob_pos_class, 'neg': log_prob_neg_class}\n",
    "\n",
    "    return log_probs, log_prob_class\n",
    "\n",
    "# Splitting the data and then training the model using the training data\n",
    "train_docs, train_labels, val_docs, val_labels, all_docs, all_labels, all_categories = split_data('reviews.txt')\n",
    "model, log_prob_class = train_nb(train_docs, train_labels)\n",
    "\n",
    "# Printing 5 instances of the model for verification\n",
    "list(model.items())[:5], log_prob_class"
   ]
  },
  {
   "cell_type": "markdown",
   "id": "2f892f381087659e",
   "metadata": {
    "collapsed": false
   },
   "source": [
    "### Classifying new documents"
   ]
  },
  {
   "cell_type": "code",
   "execution_count": 578,
   "id": "549f2794903a9fe3",
   "metadata": {
    "collapsed": false,
    "ExecuteTime": {
     "end_time": "2023-11-29T15:13:28.078891300Z",
     "start_time": "2023-11-29T15:13:28.027338500Z"
    }
   },
   "outputs": [],
   "source": [
    "def score_doc_label(document, label, model, log_prob_class):\n",
    "    \"\"\"\n",
    "    Computes logarithm probability of the observed words in a document given a sentiment label.\n",
    "    \"\"\"\n",
    "    # Start with the log probability of the label\n",
    "    log_prob = log_prob_class[label]\n",
    "\n",
    "    # Add the log probability of each word in the document\n",
    "    for word in document:\n",
    "        if word in model:\n",
    "            log_prob += model[word][label]\n",
    "        else:\n",
    "            # If the word is not in the model, it's an unseen word, we choose to ignore it\n",
    "            pass\n",
    "\n",
    "    return log_prob"
   ]
  },
  {
   "cell_type": "code",
   "execution_count": 579,
   "id": "1f9021e224ce387e",
   "metadata": {
    "collapsed": false,
    "ExecuteTime": {
     "end_time": "2023-11-29T15:13:28.093876400Z",
     "start_time": "2023-11-29T15:13:28.045891700Z"
    }
   },
   "outputs": [
    {
     "name": "stdout",
     "output_type": "stream",
     "text": [
      "Sanity Check 1:\n",
      "Probability of 'great' given positive class: 0.0013212141496043825\n",
      "Probability of 'great' given negative class: 0.0005283997934747295\n",
      "\n",
      "Sanity Check 2:\n",
      "Probability of 'bad' given positive class: 0.00017230368700664423\n",
      "Probability of 'bad' given negative class: 0.0004547440646873432\n",
      "\n",
      "Sanity Check 3:\n",
      "Log probability of ['a', 'top-quality', 'performance'] given positive class: -12.807858361140351\n",
      "Log probability of ['a', 'top-quality', 'performance'] given negative class: -13.486891735775352\n"
     ]
    }
   ],
   "source": [
    "# Sanity Check 1: Testing with the word \"great\"\n",
    "log_prob_pos_great = score_doc_label([\"great\"], \"pos\", model, log_prob_class)\n",
    "log_prob_neg_great = score_doc_label([\"great\"], \"neg\", model, log_prob_class)\n",
    "prob_pos_great = np.exp(log_prob_pos_great)\n",
    "prob_neg_great = np.exp(log_prob_neg_great)\n",
    "\n",
    "# Sanity Check 2: Testing with the word \"bad\"\n",
    "log_prob_pos_bad = score_doc_label([\"bad\"], \"pos\", model, log_prob_class)\n",
    "log_prob_neg_bad = score_doc_label([\"bad\"], \"neg\", model, log_prob_class)\n",
    "prob_pos_bad = np.exp(log_prob_pos_bad)\n",
    "prob_neg_bad = np.exp(log_prob_neg_bad)\n",
    "\n",
    "# Sanity Check 3: Testing with the document ['a', 'top-quality', 'performance']\n",
    "log_prob_pos_doc = score_doc_label(['a', 'top-quality', 'performance'], \"pos\", model, log_prob_class)\n",
    "log_prob_neg_doc = score_doc_label(['a', 'top-quality', 'performance'], \"neg\", model, log_prob_class)\n",
    "\n",
    "print(\"Sanity Check 1:\")\n",
    "print(f\"Probability of 'great' given positive class: {prob_pos_great}\")\n",
    "print(f\"Probability of 'great' given negative class: {prob_neg_great}\")\n",
    "\n",
    "print(\"\\nSanity Check 2:\")\n",
    "print(f\"Probability of 'bad' given positive class: {prob_pos_bad}\")\n",
    "print(f\"Probability of 'bad' given negative class: {prob_neg_bad}\")\n",
    "\n",
    "print(\"\\nSanity Check 3:\")\n",
    "print(f\"Log probability of ['a', 'top-quality', 'performance'] given positive class: {log_prob_pos_doc}\")\n",
    "print(f\"Log probability of ['a', 'top-quality', 'performance'] given negative class: {log_prob_neg_doc}\")"
   ]
  },
  {
   "cell_type": "code",
   "execution_count": 580,
   "id": "ece68b5805521e7f",
   "metadata": {
    "collapsed": false,
    "ExecuteTime": {
     "end_time": "2023-11-29T15:13:28.095882Z",
     "start_time": "2023-11-29T15:13:28.070876100Z"
    }
   },
   "outputs": [],
   "source": [
    "def classify_nb(document, model, log_prob_class):\n",
    "    \"\"\"\n",
    "    Classify a new document using the Naive Bayes classifier.\n",
    "    \"\"\"\n",
    "    # Compute the log probability for each class\n",
    "    log_prob_pos = score_doc_label(document, \"pos\", model, log_prob_class)\n",
    "    log_prob_neg = score_doc_label(document, \"neg\", model, log_prob_class)\n",
    "\n",
    "    # Return the class with the higher log probability\n",
    "    if log_prob_pos > log_prob_neg:\n",
    "        return \"pos\"\n",
    "    else:\n",
    "        return \"neg\""
   ]
  },
  {
   "cell_type": "code",
   "execution_count": 581,
   "id": "6571dc86a2f79bb6",
   "metadata": {
    "collapsed": false,
    "ExecuteTime": {
     "end_time": "2023-11-29T15:13:28.114873300Z",
     "start_time": "2023-11-29T15:13:28.091863100Z"
    }
   },
   "outputs": [
    {
     "data": {
      "text/plain": "[(['great'], 'pos'),\n (['bad'], 'neg'),\n (['amazing'], 'pos'),\n (['terrible'], 'neg'),\n (['a', 'top-quality', 'performance'], 'pos')]"
     },
     "execution_count": 581,
     "metadata": {},
     "output_type": "execute_result"
    }
   ],
   "source": [
    "# Sanity checks on small test documents\n",
    "test_docs = [[\"great\"], [\"bad\"], [\"amazing\"], [\"terrible\"], ['a', 'top-quality', 'performance']]\n",
    "\n",
    "# Applying the classify_nb function to the test documents\n",
    "classified_docs = []\n",
    "for doc in test_docs:\n",
    "    classification = classify_nb(doc, model, log_prob_class)\n",
    "    classified_docs.append((doc, classification))\n",
    "\n",
    "classified_docs"
   ]
  },
  {
   "cell_type": "markdown",
   "id": "3ac9440a37b0840f",
   "metadata": {
    "collapsed": false
   },
   "source": [
    "### Evaluating the classifier"
   ]
  },
  {
   "cell_type": "code",
   "execution_count": 582,
   "id": "9ebe9a960a606f2a",
   "metadata": {
    "collapsed": false,
    "ExecuteTime": {
     "end_time": "2023-11-29T15:13:28.190467500Z",
     "start_time": "2023-11-29T15:13:28.103863500Z"
    }
   },
   "outputs": [],
   "source": [
    "def classify_documents(docs, model, log_prob_class):\n",
    "    \"\"\"\n",
    "    Classifies documents in the provided collection. Handling both textual and numerical data.\n",
    "    \"\"\"\n",
    "    predictions = []\n",
    "    for doc in docs:\n",
    "        prediction = classify_nb(doc, model, log_prob_class)\n",
    "        predictions.append(prediction)\n",
    "    return predictions"
   ]
  },
  {
   "cell_type": "code",
   "execution_count": 583,
   "id": "6f7407e97440fe9",
   "metadata": {
    "collapsed": false,
    "ExecuteTime": {
     "end_time": "2023-11-29T15:13:28.204467700Z",
     "start_time": "2023-11-29T15:13:28.125894Z"
    }
   },
   "outputs": [],
   "source": [
    "def accuracy(true_labels, guessed_labels):\n",
    "    \"\"\"\n",
    "    Computes the accuracy of the classifier.\n",
    "    \"\"\"\n",
    "    correct_count = 0\n",
    "\n",
    "    for t, g in zip(true_labels, guessed_labels):\n",
    "        if t == g:\n",
    "            correct_count += 1\n",
    "    \n",
    "    acc = correct_count / len(true_labels)\n",
    "    return acc"
   ]
  },
  {
   "cell_type": "code",
   "execution_count": 584,
   "id": "6f1edf91b0fa4af8",
   "metadata": {
    "collapsed": false,
    "ExecuteTime": {
     "end_time": "2023-11-29T15:13:28.205467300Z",
     "start_time": "2023-11-29T15:13:28.142444300Z"
    }
   },
   "outputs": [],
   "source": [
    "def precision_recall_f1(true_labels, predicted_labels):\n",
    "    # Modified to handle multi-class labels\n",
    "    unique_labels = set(true_labels)\n",
    "    precision, recall, f1 = {}, {}, {}\n",
    "\n",
    "    for label in unique_labels:\n",
    "        true_positives = sum((true == label) and (pred == label) for true, pred in zip(true_labels, predicted_labels))\n",
    "        false_positives = sum((true != label) and (pred == label) for true, pred in zip(true_labels, predicted_labels))\n",
    "        false_negatives = sum((true == label) and (pred != label) for true, pred in zip(true_labels, predicted_labels))\n",
    "\n",
    "        label_precision = true_positives / (true_positives + false_positives) if true_positives + false_positives > 0 else 0\n",
    "        label_recall = true_positives / (true_positives + false_negatives) if true_positives + false_negatives > 0 else 0\n",
    "        label_f1 = 2 * (label_precision * label_recall) / (label_precision + label_recall) if label_precision + label_recall > 0 else 0\n",
    "\n",
    "        precision[label] = label_precision\n",
    "        recall[label] = label_recall\n",
    "        f1[label] = label_f1\n",
    "\n",
    "    return precision, recall, f1"
   ]
  },
  {
   "cell_type": "code",
   "execution_count": 585,
   "id": "c693470fd9e199ef",
   "metadata": {
    "collapsed": false,
    "ExecuteTime": {
     "end_time": "2023-11-29T15:13:28.473275100Z",
     "start_time": "2023-11-29T15:13:28.150442900Z"
    }
   },
   "outputs": [
    {
     "name": "stdout",
     "output_type": "stream",
     "text": [
      "Accuracy: 0.8153587914393622 \n",
      "Precision: 0.8237965485921889\n",
      "Recall: 0.7866435385949696\n",
      "F1 score: 0.8047914818101153\n"
     ]
    }
   ],
   "source": [
    "# Calculating the accuracy, precision, recall, and F1 score\n",
    "predicted_labels = classify_documents(val_docs, model, log_prob_class)\n",
    "accuracy_result = accuracy(val_labels, predicted_labels)\n",
    "precision, recall, f1_score = precision_recall_f1(val_labels, predicted_labels)\n",
    "\n",
    "print(f\"Accuracy: {accuracy_result} \\nPrecision: {precision['pos']}\\nRecall: {recall['pos']}\\nF1 score: {f1_score['pos']}\")"
   ]
  },
  {
   "cell_type": "markdown",
   "id": "11e1cbab3ac8e1e5",
   "metadata": {
    "collapsed": false
   },
   "source": [
    "### What is the difference between F1 score and accuracy?\n",
    "\n",
    "**Accuracy**\n",
    "Accuracy is a measures the proportion of correctly predicted instances out of all the predictions made. In short, it is the number of correct predictions divided by the total number of predictions. Accuracy gives us a general idea of how well the model is performing.\n",
    "\n",
    "**Precision**\n",
    "F1 score is a slightly more nuanced metric. It is the harmonic mean of precision and recall. Precision is the ratio of true positives to all positive predictions. Recall is the ratio of true positives to all actual positive instances. F1 score balances precision and recall, providing a more holistic view of how well the model is performing especially when the classes are imbalanced."
   ]
  },
  {
   "cell_type": "markdown",
   "id": "ab1eea5da76cf058",
   "metadata": {
    "collapsed": false
   },
   "source": [
    "### Error Analysis\n",
    "We analyzed the first 10 documents and their corresponding prediction. Below you will see three instances which were harder to predict: \n",
    " \n",
    "1. Document about an Iron **(Predicted: Negative)**:\n",
    "\n",
    "* Content: The document starts with a warning not to buy the iron, mentions it's fabulous when it works, but then highlights that it broke in less than a week and had other issues.\n",
    "* Analysis: The prediction as negative seems correct. The initial positive remark \"it's fabulous\" probably was outweighed by the predominantly negative context.\n",
    "\n",
    "2. Document about Madame Bovary **(Predicted: Positive)**:\n",
    "* Content: The review seems to be more about the characters in the story, with a mix of critique and appreciation for the adaptation and performances.\n",
    "* Analysis: This document was tricky to label as it wrote polarizing thoughts about the book. We assume that the classifier picked up on more positive aspects than negative aspects of the book, leading to a positive prediction. \n",
    "\n",
    "3. Document about Microsoft Office **(Predicted: Negative)**:\n",
    "* Content: The reviewer criticizes the new interface of Microsoft Office, finding it infuriating and less efficient.\n",
    "* Analysis: The negative prediction aligns with the strong criticism expressed in the document.\n",
    "\n",
    "Overall the classifier seemed to predict well the sentiment expressed in the first 10 documents. The more challenging cases for the classifier could be the ones with mixed sentiments or when the sentiment is expressed in a not so straightforward way such as the Madame Bovary document."
   ]
  },
  {
   "cell_type": "markdown",
   "id": "83a06e0e48484bdb",
   "metadata": {
    "collapsed": false
   },
   "source": [
    "### Cross-validation"
   ]
  },
  {
   "cell_type": "code",
   "execution_count": 586,
   "id": "50aed86d493a1946",
   "metadata": {
    "collapsed": false,
    "ExecuteTime": {
     "end_time": "2023-11-29T15:13:28.531318Z",
     "start_time": "2023-11-29T15:13:28.479279600Z"
    }
   },
   "outputs": [],
   "source": [
    "def cross_validation_10_fold(all_docs, all_labels, N=10):\n",
    "    \"\"\"\n",
    "    Performs 10-fold cross-validation. \n",
    "    \"\"\"\n",
    "    accuracy_scores = []\n",
    "    for fold_nbr in range(N):\n",
    "        split_point_1 = int(float(fold_nbr)/N*len(all_docs))\n",
    "        split_point_2 = int(float(fold_nbr+1)/N*len(all_docs))\n",
    "\n",
    "        train_docs_fold = all_docs[:split_point_1] + all_docs[split_point_2:]\n",
    "        train_labels_fold = all_labels[:split_point_1] + all_labels[split_point_2:]\n",
    "        val_docs_fold = all_docs[split_point_1:split_point_2]\n",
    "        val_labels_fold = all_labels[split_point_1:split_point_2]\n",
    "\n",
    "        model, log_prob_class = train_nb(train_docs_fold, train_labels_fold)\n",
    "        predicted_labels = classify_documents(val_docs_fold, model, log_prob_class)\n",
    "        accuracy_scores.append(accuracy(val_labels_fold, predicted_labels))\n",
    "\n",
    "    return sum(accuracy_scores) / N"
   ]
  },
  {
   "cell_type": "code",
   "execution_count": 587,
   "id": "8218746010ae360d",
   "metadata": {
    "collapsed": false,
    "ExecuteTime": {
     "end_time": "2023-11-29T15:13:28.544900900Z",
     "start_time": "2023-11-29T15:13:28.496276300Z"
    }
   },
   "outputs": [],
   "source": [
    "def cross_validation_loocv(all_docs, all_labels, max_iterations=100):\n",
    "    \"\"\"\n",
    "    Performs leave-one-out cross-validation. \n",
    "    \"\"\"\n",
    "    accuracy_scores = []\n",
    "    for i in range(min(max_iterations, len(all_docs))):\n",
    "        train_docs_fold = all_docs[:i] + all_docs[i+1:]\n",
    "        train_labels_fold = all_labels[:i] + all_labels[i+1:]\n",
    "        val_docs_fold = [all_docs[i]]\n",
    "        val_labels_fold = [all_labels[i]]\n",
    "\n",
    "        model, log_prob_class = train_nb(train_docs_fold, train_labels_fold)\n",
    "        predicted_labels = classify_documents(val_docs_fold, model, log_prob_class)\n",
    "        accuracy_scores.append(accuracy(val_labels_fold, predicted_labels))\n",
    "\n",
    "    return sum(accuracy_scores) / len(accuracy_scores)"
   ]
  },
  {
   "cell_type": "code",
   "execution_count": 588,
   "id": "54db05022a6506a8",
   "metadata": {
    "collapsed": false,
    "ExecuteTime": {
     "end_time": "2023-11-29T15:14:30.838536500Z",
     "start_time": "2023-11-29T15:13:28.509279200Z"
    }
   },
   "outputs": [
    {
     "name": "stdout",
     "output_type": "stream",
     "text": [
      "Average Accuracy (10-Fold Cross-Validation): 0.8076216900805256\n",
      "Average Accuracy (LOOCV, first 100 iterations): 0.83\n"
     ]
    }
   ],
   "source": [
    "# 10-Fold Cross-Validation\n",
    "avg_accuracy_10_fold = cross_validation_10_fold(all_docs, all_labels, N=10)\n",
    "print(\"Average Accuracy (10-Fold Cross-Validation):\", avg_accuracy_10_fold)\n",
    "\n",
    "# LOOCV\n",
    "avg_accuracy_loocv = cross_validation_loocv(all_docs, all_labels, max_iterations=100)\n",
    "print(\"Average Accuracy (LOOCV, first 100 iterations):\", avg_accuracy_loocv)"
   ]
  },
  {
   "cell_type": "markdown",
   "id": "54036a807a14e073",
   "metadata": {
    "collapsed": false
   },
   "source": [
    "### Cross-validation results\n",
    "* **10-Fold Cross-Validation**: Achieved an average accuracy of about 0.808. This method offers a balanced evaluation, as it trains and validates across different subsets of the data resulting in a consistent classifier performance.\n",
    "* **LOOCV (100 Iterations)**: Showed a slightly higher average accuracy of 0.83. By training on nearly all available data for each test case, this method offers a more accurate evaluation of the classifier performance. However, it is computationally expensive and can be slow to run.\n",
    "\n",
    "The 10-fold and LOOCV results indicate a reliable classifier, with 10-fold offering a broader accuracy measure and LOOCV providing more detailed validation, however with higher computational demands."
   ]
  },
  {
   "cell_type": "markdown",
   "id": "8cf29ef57f0f03dc",
   "metadata": {
    "collapsed": false
   },
   "source": [
    "### Domain sensitivity"
   ]
  },
  {
   "cell_type": "code",
   "execution_count": 589,
   "id": "5f67b2bb402e3769",
   "metadata": {
    "collapsed": false,
    "ExecuteTime": {
     "end_time": "2023-11-29T15:14:30.849546300Z",
     "start_time": "2023-11-29T15:14:30.837507900Z"
    }
   },
   "outputs": [],
   "source": [
    "def filter_by_category(docs, labels, categories, category_name):\n",
    "    \"\"\"\n",
    "    Filters the reviews by a specific category.\n",
    "    \"\"\"\n",
    "    filtered_docs = []\n",
    "    filtered_labels = []\n",
    "\n",
    "    for doc, label, cat in zip(docs, labels, categories):\n",
    "        if cat == category_name:\n",
    "            filtered_docs.append(doc)\n",
    "            filtered_labels.append(label)\n",
    "\n",
    "    return filtered_docs, filtered_labels"
   ]
  },
  {
   "cell_type": "code",
   "execution_count": 590,
   "outputs": [],
   "source": [
    "# Filter documents by category\n",
    "camera_docs, camera_labels = filter_by_category(all_docs, all_labels, all_categories, 'camera')\n",
    "book_docs, book_labels = filter_by_category(all_docs, all_labels, all_categories, 'books')"
   ],
   "metadata": {
    "collapsed": false,
    "ExecuteTime": {
     "end_time": "2023-11-29T15:14:30.886570200Z",
     "start_time": "2023-11-29T15:14:30.852562700Z"
    }
   },
   "id": "392ee9d1a861527e"
  },
  {
   "cell_type": "markdown",
   "source": [
    "#### Split the data into training and validation sets"
   ],
   "metadata": {
    "collapsed": false
   },
   "id": "be14aa2d66a4ff37"
  },
  {
   "cell_type": "code",
   "execution_count": 591,
   "outputs": [],
   "source": [
    "def split_pre_filtered_data(docs, labels, train_split=0.8):\n",
    "    \"\"\"\n",
    "    Split the filtered documents and labels into training and validation sets.\n",
    "    \"\"\"\n",
    "    split_point = int(train_split * len(docs))\n",
    "    train_docs = docs[:split_point]\n",
    "    train_labels = labels[:split_point]\n",
    "    val_docs = docs[split_point:]\n",
    "    val_labels = labels[split_point:]\n",
    "    return train_docs, train_labels, val_docs, val_labels"
   ],
   "metadata": {
    "collapsed": false,
    "ExecuteTime": {
     "end_time": "2023-11-29T15:14:30.887581500Z",
     "start_time": "2023-11-29T15:14:30.868559900Z"
    }
   },
   "id": "3458e027cb4d1a61"
  },
  {
   "cell_type": "code",
   "execution_count": 592,
   "outputs": [],
   "source": [
    "camera_train_docs, camera_train_labels, camera_val_docs, camera_val_labels = split_pre_filtered_data(camera_docs, camera_labels)\n",
    "book_train_docs, book_train_labels, book_val_docs, book_val_labels = split_pre_filtered_data(book_docs, book_labels)"
   ],
   "metadata": {
    "collapsed": false,
    "ExecuteTime": {
     "end_time": "2023-11-29T15:14:30.932154500Z",
     "start_time": "2023-11-29T15:14:30.884560100Z"
    }
   },
   "id": "860f539fde1de45f"
  },
  {
   "cell_type": "markdown",
   "source": [
    "### Train the classifier on the camera and book reviews"
   ],
   "metadata": {
    "collapsed": false
   },
   "id": "c9da015b11699c74"
  },
  {
   "cell_type": "code",
   "execution_count": 593,
   "outputs": [
    {
     "name": "stdout",
     "output_type": "stream",
     "text": [
      "Camera Classifier on Camera Reviews Accuracy: 0.8675\n",
      "Book Classifier on Book Reviews Accuracy: 0.7925\n",
      "Camera Classifier on Book Reviews Accuracy: 0.71\n",
      "Book Classifier on Camera Reviews Accuracy: 0.65\n"
     ]
    }
   ],
   "source": [
    "# Train classifier for camera reviews\n",
    "camera_model, camera_log_prob_class = train_nb(camera_train_docs, camera_train_labels)\n",
    "\n",
    "# Evaluate classifier on camera validation set\n",
    "camera_predicted_labels = classify_documents(camera_val_docs, camera_model, camera_log_prob_class)\n",
    "camera_accuracy = accuracy(camera_val_labels, camera_predicted_labels)\n",
    "\n",
    "# Train classifier for book reviews\n",
    "book_model, book_log_prob_class = train_nb(book_train_docs, book_train_labels)\n",
    "\n",
    "# Evaluate classifier on book validation set\n",
    "book_predicted_labels = classify_documents(book_val_docs, book_model, book_log_prob_class)\n",
    "book_accuracy = accuracy(book_val_labels, book_predicted_labels)\n",
    "\n",
    "# Evaluate the classifiers on the opposite domain\n",
    "camera_on_book_accuracy = accuracy(book_val_labels, classify_documents(book_val_docs, camera_model, camera_log_prob_class))\n",
    "book_on_camera_accuracy = accuracy(camera_val_labels, classify_documents(camera_val_docs, book_model, book_log_prob_class))\n",
    "\n",
    "# Show the results\n",
    "print(f\"Camera Classifier on Camera Reviews Accuracy: {camera_accuracy}\")\n",
    "print(f\"Book Classifier on Book Reviews Accuracy: {book_accuracy}\")\n",
    "print(f\"Camera Classifier on Book Reviews Accuracy: {camera_on_book_accuracy}\")\n",
    "print(f\"Book Classifier on Camera Reviews Accuracy: {book_on_camera_accuracy}\")"
   ],
   "metadata": {
    "collapsed": false,
    "ExecuteTime": {
     "end_time": "2023-11-29T15:14:31.204183400Z",
     "start_time": "2023-11-29T15:14:30.917168Z"
    }
   },
   "id": "903324be8dfcd766"
  },
  {
   "cell_type": "markdown",
   "source": [
    "### Classifier Performance Analysis\n",
    "#### Within-Domain Accuracy\n",
    "* **Camera Classifier on Camera Reviews**: Achieved an accuracy of 0.8675. The high accuracy indicates that the classifier is well-tuned to the specific features and patterns present in camera reviews. \n",
    "* **Book Classifier on Book Reviews**: Accomplished an accuracy of 0.7925. While slightly lower than the camera classifier, it still shows a strong performance suggesting a good model fit to book review data.\n",
    "\n",
    "#### Cross-Domain Accuracy\n",
    "* **Camera Classifier on Book Reviews**: The accuracy dropped to 0.71 when the camera classifier was applied to book reviews. This significant drop in accuracy highlights the domain sensitivity. In turn indicating that features learned from camera reviews are not as effective in classifying book reviews.\n",
    "* **Book Classifier on Camera Reviews**: Saw an even further drop in accuracy to 0.65. Similarly to the camera classifier, the book classifier was not able to generalize well to the camera reviews.\n",
    "\n",
    "#### Conclusion\n",
    "The results demonstrate a clear importance of domain sensitivity. Both classifiers perform well within their respective domains showing that they have learned domain-specific features effectively. However, when applied to a different domain their accuracy drops significantly demonstrating the importance of domain-specific language and features in text classification tasks. \n"
   ],
   "metadata": {
    "collapsed": false
   },
   "id": "5e721646af4a471b"
  },
  {
   "cell_type": "markdown",
   "source": [
    "### Naive Bayes for numerical data"
   ],
   "metadata": {
    "collapsed": false
   },
   "id": "ab729f4edc6ceeaa"
  },
  {
   "cell_type": "code",
   "execution_count": 594,
   "outputs": [],
   "source": [
    "# Read the data\n",
    "df = pd.read_csv('iris.csv')\n",
    "\n",
    "def train_nb_numerical(dataframe, labels):\n",
    "    \"\"\"\n",
    "    Trains a Gaussian Naive Bayes classifier and returns model and log probabilities of classes.\n",
    "    \"\"\"\n",
    "    # Initialize dictionary and get the unique labels\n",
    "    model = {}\n",
    "    unique_labels = dataframe[labels].unique()\n",
    "\n",
    "    # Calculate the total number of samples\n",
    "    total_samples = len(dataframe)\n",
    "\n",
    "    # Initialize dictionary for log probabilities of each class\n",
    "    log_prob_class = {}\n",
    "\n",
    "    # Calculate the mean, standard deviation, and log probability for each class\n",
    "    for label in unique_labels:\n",
    "        class_data = dataframe[dataframe[labels] == label]\n",
    "        features = class_data.drop(labels, axis=1)\n",
    "        mean = features.mean(numeric_only=True)\n",
    "        std = features.std(numeric_only=True)\n",
    "\n",
    "        # Store mean and std in the model\n",
    "        model[label] = {'mean': mean, 'std': std}\n",
    "\n",
    "        # Calculate and store the log probability of the class\n",
    "        log_prob_class[label] = np.log(len(class_data) / total_samples)\n",
    "\n",
    "    return model, log_prob_class"
   ],
   "metadata": {
    "collapsed": false,
    "ExecuteTime": {
     "end_time": "2023-11-29T15:14:31.216154900Z",
     "start_time": "2023-11-29T15:14:31.204183400Z"
    }
   },
   "id": "d9906c899c9a6618"
  },
  {
   "cell_type": "code",
   "execution_count": 595,
   "outputs": [],
   "source": [
    "def score_doc_label_numerical(document, label, model):\n",
    "    \"\"\"\n",
    "    Computes the log probability of a numerical document given a label.\n",
    "    \"\"\"\n",
    "    mean = model[label]['mean']\n",
    "    std = model[label]['std']\n",
    "    log_prob = 0\n",
    "\n",
    "    # Calculate the log probability for each feature\n",
    "    for feature_value, feature_mean, feature_std in zip(document, mean, std):\n",
    "        # Apply the Gaussian Naive Bayes formula\n",
    "        log_prob += np.log(1 / (np.sqrt(2 * np.pi) * feature_std)) - ((feature_value - feature_mean) ** 2) / (2 * feature_std ** 2)\n",
    "\n",
    "    return log_prob"
   ],
   "metadata": {
    "collapsed": false,
    "ExecuteTime": {
     "end_time": "2023-11-29T15:14:31.274917Z",
     "start_time": "2023-11-29T15:14:31.221166900Z"
    }
   },
   "id": "fbab189e3895932c"
  },
  {
   "cell_type": "code",
   "execution_count": 596,
   "outputs": [],
   "source": [
    "def classify_nb_numerical(document, model):\n",
    "    \"\"\"\n",
    "    Classify a numerical document using a Naive Bayes model.\n",
    "    \"\"\"\n",
    "    # Initialize a dictionary to store log probabilities for each label\n",
    "    log_probs = {}\n",
    "\n",
    "    # Compute the log probability for each class\n",
    "    for label in model.keys():\n",
    "        log_probs[label] = score_doc_label_numerical(document, label, model)\n",
    "\n",
    "    # Return the label with the highest log probability\n",
    "    return max(log_probs, key=log_probs.get)"
   ],
   "metadata": {
    "collapsed": false,
    "ExecuteTime": {
     "end_time": "2023-11-29T15:14:31.287917800Z",
     "start_time": "2023-11-29T15:14:31.237897100Z"
    }
   },
   "id": "308928acb566ee46"
  },
  {
   "cell_type": "code",
   "execution_count": 597,
   "outputs": [],
   "source": [
    "# Train the model\n",
    "model, num_log_prob_class = train_nb_numerical(df, 'species')\n",
    "\n",
    "# Initialize an empty list to store predictions\n",
    "predictions = []\n",
    "\n",
    "# Iterate over the rows in the dataframe\n",
    "for index, row in df.iterrows():\n",
    "    iris_document = row.drop('species').tolist()\n",
    "\n",
    "    # Compute the log probability for each class\n",
    "    log_probs = {label: score_doc_label_numerical(iris_document, label, model) for label in model}\n",
    "    predicted_class = max(log_probs, key=log_probs.get)\n",
    "    predictions.append(predicted_class)\n",
    "\n",
    "# Add the predictions to the dataframe\n",
    "df['predicted_species'] = predictions\n",
    "df['correct_prediction'] = df['species'] == df['predicted_species']"
   ],
   "metadata": {
    "collapsed": false,
    "ExecuteTime": {
     "end_time": "2023-11-29T15:14:31.342330700Z",
     "start_time": "2023-11-29T15:14:31.250910500Z"
    }
   },
   "id": "33fd2ebb72b6c0b3"
  },
  {
   "cell_type": "code",
   "execution_count": 598,
   "outputs": [
    {
     "data": {
      "text/plain": "<Figure size 1000x600 with 1 Axes>",
      "image/png": "[encoded data removed]"
     },
     "metadata": {},
     "output_type": "display_data"
    }
   ],
   "source": [
    "# Plot the correct and incorrect predictions\n",
    "plt.figure(figsize=(10, 6))\n",
    "sns.scatterplot(data=df, x='petal_length', y='petal_width', hue='correct_prediction', style='species', palette={True: \"green\", False: \"red\"})\n",
    "plt.title('Iris Species Predictions: Correct vs Incorrect')\n",
    "plt.xlabel('Petal Length')\n",
    "plt.ylabel('Petal Width')\n",
    "handles, _ = plt.gca().get_legend_handles_labels()\n",
    "plt.legend(handles=handles[1:], labels=['Incorrect', 'Correct'], title='Correct Prediction', loc='upper left')\n",
    "plt.show()"
   ],
   "metadata": {
    "collapsed": false,
    "ExecuteTime": {
     "end_time": "2023-11-29T15:14:31.640341100Z",
     "start_time": "2023-11-29T15:14:31.381323600Z"
    }
   },
   "id": "f88599a93517f44a"
  },
  {
   "cell_type": "code",
   "execution_count": 599,
   "outputs": [],
   "source": [
    "def cross_validation_10_fold_numerical(dataframe, label_column, N=10):\n",
    "    \"\"\"\n",
    "    Performs 10-fold cross-validation on a DataFrame with numerical data.\n",
    "    \"\"\"\n",
    "    accuracy_scores, all_precision_scores, all_recall_scores, all_f1_scores = [], [], [], []\n",
    "    n = len(dataframe)\n",
    "\n",
    "    # Shuffle the DataFrame\n",
    "    dataframe = dataframe.sample(frac=1, random_state=1).reset_index(drop=True)\n",
    "\n",
    "    for fold_nbr in range(N):\n",
    "        split_point_1 = int(fold_nbr / N * n)\n",
    "        split_point_2 = int((fold_nbr + 1) / N * n)\n",
    "\n",
    "        # Splitting DataFrame into training and validation sets\n",
    "        train_df = pd.concat([dataframe.iloc[:split_point_1], dataframe.iloc[split_point_2:]])\n",
    "        val_df = dataframe.iloc[split_point_1:split_point_2]\n",
    "\n",
    "        # Training the model\n",
    "        model, num_log_prob_class = train_nb_numerical(train_df, label_column)\n",
    "\n",
    "        # Initialize an empty list to store predictions\n",
    "        predicted_labels = []\n",
    "\n",
    "        # Extracting validation labels\n",
    "        val_labels = val_df[label_column].tolist()\n",
    "\n",
    "        # Classifying each document in the validation set\n",
    "        for index, row in val_df.iterrows():\n",
    "            # Select the feature columns\n",
    "            document = row[['sepal_length', 'sepal_width', 'petal_length', 'petal_width']].tolist()\n",
    "\n",
    "            # Classify the document\n",
    "            predicted_label = classify_nb_numerical(document, model)\n",
    "            predicted_labels.append(predicted_label)\n",
    "\n",
    "        # Calculating accuracy for the fold\n",
    "        accuracy_scores.append(accuracy(val_labels, predicted_labels))\n",
    "\n",
    "        # Calculate precision, recall, and F1 scores for the fold\n",
    "        precision, recall, f1 = precision_recall_f1(val_labels, predicted_labels)\n",
    "        all_precision_scores.append(precision)\n",
    "        all_recall_scores.append(recall)\n",
    "        all_f1_scores.append(f1)\n",
    "\n",
    "    # Calculate the average scores\n",
    "    average_accuracy = sum(accuracy_scores) / N\n",
    "    num_labels = len(set(dataframe[label_column]))\n",
    "    average_precision = sum(sum(precision.values()) for precision in all_precision_scores) / (N * num_labels)\n",
    "    average_recall = sum(sum(recall.values()) for recall in all_recall_scores) / (N * num_labels)\n",
    "    average_f1 = sum(sum(f1.values()) for f1 in all_f1_scores) / (N * num_labels)\n",
    "\n",
    "    return average_accuracy, average_precision, average_recall, average_f1"
   ],
   "metadata": {
    "collapsed": false,
    "ExecuteTime": {
     "end_time": "2023-11-29T15:14:31.718853300Z",
     "start_time": "2023-11-29T15:14:31.649830200Z"
    }
   },
   "id": "e5c30542bf18ddeb"
  },
  {
   "cell_type": "code",
   "execution_count": 600,
   "outputs": [
    {
     "name": "stdout",
     "output_type": "stream",
     "text": [
      "Average 10-Fold Cross-Validation Accuracy: 0.9533333333333335\n",
      "Average Precision: 0.9472222222222222\n",
      "Average Recall: 0.9523809523809524\n",
      "Average F1 Score: 0.945929625929626\n"
     ]
    }
   ],
   "source": [
    "average_accuracy, average_precision, average_recall, average_f1 = cross_validation_10_fold_numerical(df, 'species')\n",
    "\n",
    "print(f\"Average 10-Fold Cross-Validation Accuracy: {average_accuracy}\")\n",
    "print(f\"Average Precision: {average_precision}\")\n",
    "print(f\"Average Recall: {average_recall}\")\n",
    "print(f\"Average F1 Score: {average_f1}\")"
   ],
   "metadata": {
    "collapsed": false,
    "ExecuteTime": {
     "end_time": "2023-11-29T15:14:31.800684Z",
     "start_time": "2023-11-29T15:14:31.663839500Z"
    }
   },
   "id": "8a33d112a5000339"
  },
  {
   "cell_type": "markdown",
   "source": [
    "It seems like the Gaussian Naive Bayes classifier is performing well on the iris dataset, achieving a high average accuracy of 95.33% and F1 score of 94.59% over the 10-fold cross-validation. Indicating that the model is effectively learning and making accurate predictions on the given dataset. \n",
    "\n",
    "- The high accuracy indicates that the classifier is effective in correctly predicting the species of the iris flowers. It suggests that the model generalizes well on the validation data, which is a positive outcome.\n",
    "- The F1 score as it is mentioned early is a metric that considers both precision and recall. The high F1 score suggests a good balance between precision and recall, indicating that the model performs well in correctly identifying positive instances while minimizing false positives and false negatives.\n",
    "- Gaussian Naive Bayes assumes that the features follow a Gaussian distribution, the good performance might indicate that this assumption is reasonable for the iris dataset because the model is capturing the patterns in the data effectively. However, further analysis of the feature distributions could provide more insights into this assumption. \n",
    "- The use of 10-fold cross-validation provides a robust evaluation of the model. It helps ensure that the model's performance is consistent across different subsets of the data, reducing the risk of overfitting."
   ],
   "metadata": {
    "collapsed": false
   },
   "id": "78b0b6717641bb83"
  },
  {
   "cell_type": "markdown",
   "source": [
    "## References:\n",
    "* Add 1 (Laplace) Smoothing: https://courses.engr.illinois.edu/cs447/fa2018/Slides/Lecture04.pdf"
   ],
   "metadata": {
    "collapsed": false
   },
   "id": "84338698f856244e"
  },
  {
   "cell_type": "code",
   "execution_count": null,
   "outputs": [],
   "source": [],
   "metadata": {
    "collapsed": false
   },
   "id": "ba14f11ec1a57598"
  }
 ],
 "metadata": {
  "kernelspec": {
   "display_name": "Python 3",
   "language": "python",
   "name": "python3"
  },
  "language_info": {
   "codemirror_mode": {
    "name": "ipython",
    "version": 2
   },
   "file_extension": ".py",
   "mimetype": "text/x-python",
   "name": "python",
   "nbconvert_exporter": "python",
   "pygments_lexer": "ipython2",
   "version": "2.7.6"
  }
 },
 "nbformat": 4,
 "nbformat_minor": 5
}
