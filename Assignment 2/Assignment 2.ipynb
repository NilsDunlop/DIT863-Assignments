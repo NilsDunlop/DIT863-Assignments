{
 "cells": [
  {
   "cell_type": "markdown",
   "id": "54579eafefd55407",
   "metadata": {
    "collapsed": false
   },
   "source": [
    "# Assignment 2: Naive Bayes Classifier\n",
    "## Group Members:\n",
    "* ### Nils Dunlop, e-mail: gusdunlni@student.gu.se\n",
    "* ### Francisco Alejandro Erazo Piza, e-mail: guserafr@student.gu.se\n",
    "* ### Chukwudumebi Ubogu, e-mail: gusuboch@student.gu.se"
   ]
  },
  {
   "cell_type": "markdown",
   "id": "1c46f3b8c5fc333b",
   "metadata": {
    "collapsed": false
   },
   "source": [
    "## Preparatory remarks"
   ]
  },
  {
   "cell_type": "markdown",
   "id": "c75c46eb991b4feb",
   "metadata": {
    "collapsed": false
   },
   "source": [
    "### Frequency-counting in Python."
   ]
  },
  {
   "cell_type": "code",
   "execution_count": 247,
   "id": "25799c9a77429e34",
   "metadata": {
    "collapsed": false,
    "ExecuteTime": {
     "end_time": "2023-11-29T02:01:43.878312Z",
     "start_time": "2023-11-29T02:01:43.770322Z"
    }
   },
   "outputs": [],
   "source": [
    "from collections import Counter\n",
    "import numpy as np\n",
    "import pandas as pd\n",
    "import matplotlib.pyplot as plt\n",
    "import seaborn as sns\n",
    "\n",
    "def read_documents(doc_file):\n",
    "    \"\"\"\n",
    "    Reads a document and returns a list of documents and their corresponding labels.\n",
    "    \"\"\"\n",
    "    docs = []\n",
    "    labels = []\n",
    "    categories = []\n",
    "    with open(doc_file, encoding='utf-8') as f:\n",
    "        for line in f:\n",
    "            words = line.strip().split()\n",
    "            docs.append(words[3:])\n",
    "            labels.append(words[1])\n",
    "            categories.append(words[0]) # Used in domain sensitivity section\n",
    "    return docs, labels, categories"
   ]
  },
  {
   "cell_type": "markdown",
   "id": "432d8b647ce746b2",
   "metadata": {
    "collapsed": false
   },
   "source": [
    "### Reading the review data"
   ]
  },
  {
   "cell_type": "code",
   "execution_count": 248,
   "id": "74cb4576eb34d477",
   "metadata": {
    "collapsed": false,
    "ExecuteTime": {
     "end_time": "2023-11-29T02:01:43.987299400Z",
     "start_time": "2023-11-29T02:01:43.780297900Z"
    }
   },
   "outputs": [],
   "source": [
    "def split_data(doc_file, train_split=0.8):\n",
    "    \"\"\"\n",
    "    Splits the data into training and validation sets.\n",
    "    \"\"\"\n",
    "    all_docs, all_labels, all_categories = read_documents(doc_file)\n",
    "    split_point = int(train_split * len(all_docs))\n",
    "    train_docs = all_docs[:split_point]\n",
    "    train_labels = all_labels[:split_point]\n",
    "    val_docs = all_docs[split_point:]\n",
    "    val_labels = all_labels[split_point:]\n",
    "    return train_docs, train_labels, val_docs, val_labels, all_docs, all_labels, all_categories"
   ]
  },
  {
   "cell_type": "markdown",
   "id": "7c55fbd09ecd4e33",
   "metadata": {
    "collapsed": false
   },
   "source": [
    "### Estimating parameters for the Naive Bayes classifier"
   ]
  },
  {
   "cell_type": "code",
   "execution_count": 249,
   "id": "650f7e1ff48a8e9e",
   "metadata": {
    "collapsed": false,
    "ExecuteTime": {
     "end_time": "2023-11-29T02:01:44.986828600Z",
     "start_time": "2023-11-29T02:01:43.803298300Z"
    }
   },
   "outputs": [
    {
     "name": "stdout",
     "output_type": "stream",
     "text": [
      "First five word probabilities:\n",
      "rubin-directed: {'pos': -12.865259652006523, 'neg': -13.55064356428109}\n",
      "geller: {'pos': -12.865259652006523, 'neg': -13.55064356428109}\n",
      "afeni: {'pos': -13.558406832566469, 'neg': -12.857496383721145}\n",
      "duracells: {'pos': -13.558406832566469, 'neg': -12.857496383721145}\n",
      "shirley: {'pos': -11.948968920132367, 'neg': -11.06573691449309}\n",
      "\n",
      "Class log probabilities:\n",
      "pos: -0.6761896870922498\n",
      "neg: -0.7103971982200179\n"
     ]
    }
   ],
   "source": [
    "def train_nb(data, labels):\n",
    "    \"\"\"\n",
    "    Trains a Naive Bayes classifier.\n",
    "    This function can handle both textual and numerical data.\n",
    "    \"\"\"\n",
    "    # Check if the data is numerical data (DataFrame)\n",
    "    if isinstance(data, pd.DataFrame):\n",
    "        model = {}\n",
    "        unique_labels = data[labels].unique()\n",
    "        for label in unique_labels:\n",
    "            class_data = data[data[labels] == label]\n",
    "            features = class_data.drop(labels, axis=1)\n",
    "            mean = features.mean(numeric_only=True)\n",
    "            std = features.std(numeric_only=True)\n",
    "            model[label] = {'mean': mean, 'std': std}\n",
    "        return model\n",
    "\n",
    "    # Otherwise we assume the data is textual data\n",
    "    else:\n",
    "        # Initialize counters for each class and a counter for all words\n",
    "        pos_counter = Counter()\n",
    "        neg_counter = Counter()\n",
    "        all_words = set()\n",
    "    \n",
    "        # Count word frequencies per class\n",
    "        for doc, label in zip(data, labels):\n",
    "            if label == 'pos':\n",
    "                pos_counter.update(doc)\n",
    "            elif label == 'neg':\n",
    "                neg_counter.update(doc)\n",
    "            all_words.update(doc)\n",
    "    \n",
    "        # Total count of words in each class\n",
    "        total_pos = sum(pos_counter.values())\n",
    "        total_neg = sum(neg_counter.values())\n",
    "        V = len(all_words)\n",
    "    \n",
    "        # Calculate log probabilities with Laplace smoothing\n",
    "        log_probs = {}\n",
    "        for word in all_words:\n",
    "            # Apply laplace smoothing\n",
    "            log_prob_pos = np.log((pos_counter[word] + 1) / (total_pos + V))\n",
    "            log_prob_neg = np.log((neg_counter[word] + 1) / (total_neg + V))\n",
    "            log_probs[word] = {'pos': log_prob_pos, 'neg': log_prob_neg}\n",
    "    \n",
    "        # Calculate the log probabilities of each class\n",
    "        num_pos = sum(1 for l in labels if l == 'pos')\n",
    "        num_neg = sum(1 for l in labels if l == 'neg')\n",
    "        prob_pos = num_pos / len(labels)\n",
    "        prob_neg = num_neg / len(labels)\n",
    "        log_prob_pos_class = np.log(prob_pos)\n",
    "        log_prob_neg_class = np.log(prob_neg)\n",
    "\n",
    "        if isinstance(data, list):\n",
    "            model = {\n",
    "            'word_probs': log_probs,\n",
    "            'log_prob_class': {'pos': log_prob_pos_class, 'neg': log_prob_neg_class}\n",
    "            }\n",
    "        return model\n",
    "\n",
    "# Splitting the data and then training the model using the training data\n",
    "train_docs, train_labels, val_docs, val_labels, all_docs, all_labels, all_categories = split_data('reviews.txt')\n",
    "model = train_nb(train_docs, train_labels)\n",
    "\n",
    "# Printing first five word probabilities\n",
    "print(\"First five word probabilities:\")\n",
    "for word, probabilities in list(model['word_probs'].items())[:5]:\n",
    "    print(f\"{word}: {probabilities}\")\n",
    "\n",
    "# Printing class log probabilities\n",
    "print(\"\\nClass log probabilities:\")\n",
    "for class_label, log_prob in model['log_prob_class'].items():\n",
    "    print(f\"{class_label}: {log_prob}\")"
   ]
  },
  {
   "cell_type": "markdown",
   "id": "2f892f381087659e",
   "metadata": {
    "collapsed": false
   },
   "source": [
    "### Classifying new documents"
   ]
  },
  {
   "cell_type": "code",
   "execution_count": 250,
   "id": "549f2794903a9fe3",
   "metadata": {
    "collapsed": false,
    "ExecuteTime": {
     "end_time": "2023-11-29T02:01:45.029647600Z",
     "start_time": "2023-11-29T02:01:44.991829100Z"
    }
   },
   "outputs": [],
   "source": [
    "def score_doc_label(document, label, model):\n",
    "    \"\"\"\n",
    "    Computes the logarithm probability of observing a document given a label.\n",
    "    This function can handle both textual and numerical data.\n",
    "    \"\"\"\n",
    "    if 'mean' in model.get(label, {}):\n",
    "        # Numerical data scoring\n",
    "        mean = model[label]['mean']\n",
    "        std = model[label]['std']\n",
    "        log_prob = 0\n",
    "        for i in range(len(document)):\n",
    "            feature_value = document[i]\n",
    "            feature_mean = mean[i]\n",
    "            feature_std = std[i]\n",
    "            log_prob += np.log(1 / (np.sqrt(2 * np.pi) * feature_std)) - 0.5 * ((feature_value - feature_mean) ** 2 / (feature_std ** 2))\n",
    "        return log_prob\n",
    "    else:\n",
    "        # Textual data scoring\n",
    "        log_prob_class = model['log_prob_class']\n",
    "        log_prob = log_prob_class[label]\n",
    "        word_probs = model['word_probs']\n",
    "        for word in document:\n",
    "            if word in word_probs:\n",
    "                log_prob += word_probs[word].get(label, 0)\n",
    "            else:\n",
    "                pass  # Unseen word we choose to ignore it\n",
    "        return log_prob"
   ]
  },
  {
   "cell_type": "code",
   "execution_count": 251,
   "id": "1f9021e224ce387e",
   "metadata": {
    "collapsed": false,
    "ExecuteTime": {
     "end_time": "2023-11-29T02:01:45.030650800Z",
     "start_time": "2023-11-29T02:01:45.007824Z"
    }
   },
   "outputs": [
    {
     "data": {
      "text/plain": "(0.0013212141496043825,\n 0.0005283997934747295,\n 0.5085510439618088,\n 0.49144895603819116,\n -12.807858361140351,\n -13.486891735775352)"
     },
     "execution_count": 251,
     "metadata": {},
     "output_type": "execute_result"
    }
   ],
   "source": [
    "# Sanity Check 1: Testing with the word \"great\"\n",
    "log_prob_pos_great = score_doc_label([\"great\"], \"pos\", model)\n",
    "log_prob_neg_great = score_doc_label([\"great\"], \"neg\", model)\n",
    "prob_pos_great = np.exp(log_prob_pos_great)\n",
    "prob_neg_great = np.exp(log_prob_neg_great)\n",
    "\n",
    "# Sanity Check 2: Testing with the word \"bad\"\n",
    "log_prob_pos_bad = score_doc_label([\"bas\"], \"pos\", model)\n",
    "log_prob_neg_bad = score_doc_label([\"bas\"], \"neg\", model)\n",
    "prob_pos_bad = np.exp(log_prob_pos_bad)\n",
    "prob_neg_bad = np.exp(log_prob_neg_bad)\n",
    "\n",
    "# Sanity Check 3: Testing with the document ['a', 'top-quality', 'performance']\n",
    "log_prob_pos_doc = score_doc_label(['a', 'top-quality', 'performance'], \"pos\", model)\n",
    "log_prob_neg_doc = score_doc_label(['a', 'top-quality', 'performance'], \"neg\", model)\n",
    "\n",
    "prob_pos_great, prob_neg_great, prob_pos_bad, prob_neg_bad, log_prob_pos_doc, log_prob_neg_doc"
   ]
  },
  {
   "cell_type": "code",
   "execution_count": 252,
   "id": "ece68b5805521e7f",
   "metadata": {
    "collapsed": false,
    "ExecuteTime": {
     "end_time": "2023-11-29T02:01:45.045651Z",
     "start_time": "2023-11-29T02:01:45.020653300Z"
    }
   },
   "outputs": [],
   "source": [
    "def classify_nb(document, model):\n",
    "    \"\"\"\n",
    "    Classify a new document using the Naive Bayes classifier.\n",
    "    \"\"\"\n",
    "    # Compute the log probability for each class\n",
    "    log_prob_pos = score_doc_label(document, \"pos\", model)\n",
    "    log_prob_neg = score_doc_label(document, \"neg\", model)\n",
    "\n",
    "    # Return the class with the higher log probability\n",
    "    if log_prob_pos > log_prob_neg:\n",
    "        return \"pos\"\n",
    "    else:\n",
    "        return \"neg\""
   ]
  },
  {
   "cell_type": "code",
   "execution_count": 253,
   "id": "6571dc86a2f79bb6",
   "metadata": {
    "collapsed": false,
    "ExecuteTime": {
     "end_time": "2023-11-29T02:01:45.047648500Z",
     "start_time": "2023-11-29T02:01:45.032652600Z"
    }
   },
   "outputs": [
    {
     "data": {
      "text/plain": "[(['great'], 'pos'),\n (['bad'], 'neg'),\n (['amazing'], 'pos'),\n (['terrible'], 'neg'),\n (['a', 'top-quality', 'performance'], 'pos')]"
     },
     "execution_count": 253,
     "metadata": {},
     "output_type": "execute_result"
    }
   ],
   "source": [
    "# Sanity checks on small test documents\n",
    "test_docs = [[\"great\"], [\"bad\"], [\"amazing\"], [\"terrible\"], ['a', 'top-quality', 'performance']]\n",
    "\n",
    "# Applying the classify_nb function to the test documents\n",
    "classified_docs = []\n",
    "for doc in test_docs:\n",
    "    classification = classify_nb(doc, model)\n",
    "    classified_docs.append((doc, classification))\n",
    "\n",
    "classified_docs"
   ]
  },
  {
   "cell_type": "markdown",
   "id": "3ac9440a37b0840f",
   "metadata": {
    "collapsed": false
   },
   "source": [
    "### Evaluating the classifier"
   ]
  },
  {
   "cell_type": "code",
   "execution_count": 254,
   "id": "9ebe9a960a606f2a",
   "metadata": {
    "collapsed": false,
    "ExecuteTime": {
     "end_time": "2023-11-29T02:01:45.121646700Z",
     "start_time": "2023-11-29T02:01:45.050648800Z"
    }
   },
   "outputs": [],
   "source": [
    "def classify_documents(docs, model):\n",
    "    \"\"\"\n",
    "    Classifies documents in the provided collection.\n",
    "    \"\"\"\n",
    "    predictions = []\n",
    "    for doc in docs:\n",
    "        prediction = classify_nb(doc, model)\n",
    "        predictions.append(prediction)\n",
    "    return predictions"
   ]
  },
  {
   "cell_type": "code",
   "execution_count": 255,
   "id": "6f7407e97440fe9",
   "metadata": {
    "collapsed": false,
    "ExecuteTime": {
     "end_time": "2023-11-29T02:01:45.134648800Z",
     "start_time": "2023-11-29T02:01:45.067654300Z"
    }
   },
   "outputs": [],
   "source": [
    "def accuracy(true_labels, guessed_labels):\n",
    "    \"\"\"\n",
    "    Computes the accuracy of the classifier.\n",
    "    \"\"\"\n",
    "    correct_count = 0\n",
    "\n",
    "    for t, g in zip(true_labels, guessed_labels):\n",
    "        if t == g:\n",
    "            correct_count += 1\n",
    "    \n",
    "    acc = correct_count / len(true_labels)\n",
    "    return acc"
   ]
  },
  {
   "cell_type": "code",
   "execution_count": 256,
   "id": "6f1edf91b0fa4af8",
   "metadata": {
    "collapsed": false,
    "ExecuteTime": {
     "end_time": "2023-11-29T02:01:45.134648800Z",
     "start_time": "2023-11-29T02:01:45.085651900Z"
    }
   },
   "outputs": [],
   "source": [
    "def precision_recall_f1(true_labels, predicted_labels):\n",
    "    \"\"\"\n",
    "    Compute precision, recall, and F1 score.\n",
    "    \"\"\"\n",
    "    # Initialize variables\n",
    "    true_positives, false_positives, false_negatives = 0, 0, 0\n",
    "\n",
    "    # Counting true positives, false positives, and false negatives\n",
    "    for true, pred in zip(true_labels, predicted_labels):\n",
    "        if true == 'pos' and pred == 'pos':\n",
    "            true_positives += 1\n",
    "        elif true == 'neg' and pred == 'pos':\n",
    "            false_positives += 1\n",
    "        elif true == 'pos' and pred == 'neg':\n",
    "            false_negatives += 1\n",
    "\n",
    "    # Calculating precision, recall, and F1 score\n",
    "    precision, recall, f1 = 0, 0, 0\n",
    "\n",
    "    if true_positives + false_positives > 0:\n",
    "        precision = true_positives / (true_positives + false_positives)\n",
    "\n",
    "    if true_positives + false_negatives > 0:\n",
    "        recall = true_positives / (true_positives + false_negatives)\n",
    "\n",
    "    if precision + recall > 0:\n",
    "        f1 = 2 * (precision * recall) / (precision + recall)\n",
    "\n",
    "    return precision, recall, f1"
   ]
  },
  {
   "cell_type": "code",
   "execution_count": 257,
   "id": "c693470fd9e199ef",
   "metadata": {
    "collapsed": false,
    "ExecuteTime": {
     "end_time": "2023-11-29T02:01:45.350334400Z",
     "start_time": "2023-11-29T02:01:45.107656500Z"
    }
   },
   "outputs": [
    {
     "name": "stdout",
     "output_type": "stream",
     "text": [
      "\n",
      "Accuracy: 0.8153587914393622 \n",
      "Precision: 0.8237965485921889\n",
      "Recall: 0.7866435385949696\n",
      "F1 score: 0.8047914818101153\n"
     ]
    }
   ],
   "source": [
    "# Calculating the accuracy, precision, recall, and F1 score\n",
    "predicted_labels = classify_documents(val_docs, model)\n",
    "accuracy_result = accuracy(val_labels, predicted_labels)\n",
    "precision, recall, f1_score = precision_recall_f1(val_labels, predicted_labels)\n",
    "\n",
    "print(f\"\\nAccuracy: {accuracy_result} \\nPrecision: {precision}\\nRecall: {recall}\\nF1 score: {f1_score}\")"
   ]
  },
  {
   "cell_type": "markdown",
   "id": "11e1cbab3ac8e1e5",
   "metadata": {
    "collapsed": false
   },
   "source": [
    "### What is the difference between F1 score and accuracy?\n",
    "\n",
    "**Accuracy**\n",
    "Accuracy is a measures the proportion of correctly predicted instances out of all the predictions made. In short, it is the number of correct predictions divided by the total number of predictions. Accuracy gives us a general idea of how well the model is performing.\n",
    "\n",
    "**Precision**\n",
    "F1 score is a slightly more nuanced metric. It is the harmonic mean of precision and recall. Precision is the ratio of true positives to all positive predictions. Recall is the ratio of true positives to all actual positive instances. F1 score balances precision and recall, providing a more holistic view of how well the model is performing especially when the classes are imbalanced."
   ]
  },
  {
   "cell_type": "markdown",
   "id": "ab1eea5da76cf058",
   "metadata": {
    "collapsed": false
   },
   "source": [
    "### Error Analysis\n",
    "We analyzed the first 10 documents and their corresponding prediction. Below you will see three instances which were harder to predict: \n",
    " \n",
    "1. Document about an Iron **(Predicted: Negative)**:\n",
    "\n",
    "* Content: The document starts with a warning not to buy the iron, mentions it's fabulous when it works, but then highlights that it broke in less than a week and had other issues.\n",
    "* Analysis: The prediction as negative seems correct. The initial positive remark \"it's fabulous\" probably was outweighed by the predominantly negative context.\n",
    "\n",
    "2. Document about Madame Bovary **(Predicted: Positive)**:\n",
    "* Content: The review seems to be more about the characters in the story, with a mix of critique and appreciation for the adaptation and performances.\n",
    "* Analysis: This document was tricky to label as it wrote polarizing thoughts about the book. We assume that the classifier picked up on more positive aspects than negative aspects of the book, leading to a positive prediction. \n",
    "\n",
    "3. Document about Microsoft Office **(Predicted: Negative)**:\n",
    "* Content: The reviewer criticizes the new interface of Microsoft Office, finding it infuriating and less efficient.\n",
    "* Analysis: The negative prediction aligns with the strong criticism expressed in the document.\n",
    "\n",
    "Overall the classifier seemed to predict well the sentiment expressed in the first 10 documents. The more challenging cases for the classifier could be the ones with mixed sentiments or when the sentiment is expressed in a not so straightforward way such as the Madame Bovary document."
   ]
  },
  {
   "cell_type": "markdown",
   "id": "83a06e0e48484bdb",
   "metadata": {
    "collapsed": false
   },
   "source": [
    "### Cross-validation"
   ]
  },
  {
   "cell_type": "code",
   "execution_count": 258,
   "id": "50aed86d493a1946",
   "metadata": {
    "collapsed": false,
    "ExecuteTime": {
     "end_time": "2023-11-29T02:01:45.401507700Z",
     "start_time": "2023-11-29T02:01:45.350334400Z"
    }
   },
   "outputs": [],
   "source": [
    "def cross_validation_10_fold(all_docs, all_labels, N=10):\n",
    "    \"\"\"\n",
    "    Performs 10-fold cross-validation. \n",
    "    \"\"\"\n",
    "    accuracy_scores = []\n",
    "    for fold_nbr in range(N):\n",
    "        split_point_1 = int(float(fold_nbr)/N*len(all_docs))\n",
    "        split_point_2 = int(float(fold_nbr+1)/N*len(all_docs))\n",
    "\n",
    "        train_docs_fold = all_docs[:split_point_1] + all_docs[split_point_2:]\n",
    "        train_labels_fold = all_labels[:split_point_1] + all_labels[split_point_2:]\n",
    "        val_docs_fold = all_docs[split_point_1:split_point_2]\n",
    "        val_labels_fold = all_labels[split_point_1:split_point_2]\n",
    "\n",
    "        model = train_nb(train_docs_fold, train_labels_fold)\n",
    "        predicted_labels = classify_documents(val_docs_fold, model)\n",
    "        accuracy_scores.append(accuracy(val_labels_fold, predicted_labels))\n",
    "\n",
    "    return sum(accuracy_scores) / N"
   ]
  },
  {
   "cell_type": "code",
   "execution_count": 259,
   "id": "8218746010ae360d",
   "metadata": {
    "collapsed": false,
    "ExecuteTime": {
     "end_time": "2023-11-29T02:01:45.413513400Z",
     "start_time": "2023-11-29T02:01:45.360335400Z"
    }
   },
   "outputs": [],
   "source": [
    "def cross_validation_loocv(all_docs, all_labels, max_iterations=100):\n",
    "    \"\"\"\n",
    "    Performs leave-one-out cross-validation. \n",
    "    \"\"\"\n",
    "    accuracy_scores = []\n",
    "    for i in range(min(max_iterations, len(all_docs))):\n",
    "        train_docs_fold = all_docs[:i] + all_docs[i+1:]\n",
    "        train_labels_fold = all_labels[:i] + all_labels[i+1:]\n",
    "        val_docs_fold = [all_docs[i]]\n",
    "        val_labels_fold = [all_labels[i]]\n",
    "\n",
    "        model = train_nb(train_docs_fold, train_labels_fold)\n",
    "        predicted_labels = classify_documents(val_docs_fold, model)\n",
    "        accuracy_scores.append(accuracy(val_labels_fold, predicted_labels))\n",
    "\n",
    "    return sum(accuracy_scores) / len(accuracy_scores)"
   ]
  },
  {
   "cell_type": "code",
   "execution_count": 260,
   "id": "54db05022a6506a8",
   "metadata": {
    "collapsed": false,
    "ExecuteTime": {
     "end_time": "2023-11-29T02:02:44.532383500Z",
     "start_time": "2023-11-29T02:01:45.376511600Z"
    }
   },
   "outputs": [
    {
     "name": "stdout",
     "output_type": "stream",
     "text": [
      "Average Accuracy (10-Fold Cross-Validation): 0.8076216900805256\n",
      "Average Accuracy (LOOCV, first 100 iterations): 0.83\n"
     ]
    }
   ],
   "source": [
    "# 10-Fold Cross-Validation\n",
    "avg_accuracy_10_fold = cross_validation_10_fold(all_docs, all_labels, N=10)\n",
    "print(\"Average Accuracy (10-Fold Cross-Validation):\", avg_accuracy_10_fold)\n",
    "\n",
    "# LOOCV\n",
    "avg_accuracy_loocv = cross_validation_loocv(all_docs, all_labels, max_iterations=100)\n",
    "print(\"Average Accuracy (LOOCV, first 100 iterations):\", avg_accuracy_loocv)"
   ]
  },
  {
   "cell_type": "markdown",
   "id": "54036a807a14e073",
   "metadata": {
    "collapsed": false
   },
   "source": [
    "### Cross-validation results\n",
    "* **10-Fold Cross-Validation**: Achieved an average accuracy of about 0.808. This method offers a balanced evaluation, as it trains and validates across different subsets of the data resulting in a consistent classifier performance.\n",
    "* **LOOCV (100 Iterations)**: Showed a slightly higher average accuracy of 0.83. By training on nearly all available data for each test case, this method offers a more accurate evaluation of the classifier performance. However, it is computationally expensive and can be slow to run.\n",
    "\n",
    "The 10-fold and LOOCV results indicate a reliable classifier, with 10-fold offering a broader accuracy measure and LOOCV providing more detailed validation, however with higher computational demands."
   ]
  },
  {
   "cell_type": "markdown",
   "id": "8cf29ef57f0f03dc",
   "metadata": {
    "collapsed": false
   },
   "source": [
    "### Domain sensitivity"
   ]
  },
  {
   "cell_type": "code",
   "execution_count": 261,
   "id": "5f67b2bb402e3769",
   "metadata": {
    "collapsed": false,
    "ExecuteTime": {
     "end_time": "2023-11-29T02:02:44.546393400Z",
     "start_time": "2023-11-29T02:02:44.526390Z"
    }
   },
   "outputs": [],
   "source": [
    "def filter_by_category(docs, labels, categories, category_name):\n",
    "    \"\"\"\n",
    "    Filters the reviews by a specific category.\n",
    "    \"\"\"\n",
    "    filtered_docs = []\n",
    "    filtered_labels = []\n",
    "\n",
    "    for doc, label, cat in zip(docs, labels, categories):\n",
    "        if cat == category_name:\n",
    "            filtered_docs.append(doc)\n",
    "            filtered_labels.append(label)\n",
    "\n",
    "    return filtered_docs, filtered_labels"
   ]
  },
  {
   "cell_type": "code",
   "execution_count": 262,
   "outputs": [],
   "source": [
    "# Filter documents by category\n",
    "camera_docs, camera_labels = filter_by_category(all_docs, all_labels, all_categories, 'camera')\n",
    "book_docs, book_labels = filter_by_category(all_docs, all_labels, all_categories, 'books')"
   ],
   "metadata": {
    "collapsed": false,
    "ExecuteTime": {
     "end_time": "2023-11-29T02:02:44.581398500Z",
     "start_time": "2023-11-29T02:02:44.540397100Z"
    }
   },
   "id": "392ee9d1a861527e"
  },
  {
   "cell_type": "markdown",
   "source": [
    "#### Split the data into training and validation sets"
   ],
   "metadata": {
    "collapsed": false
   },
   "id": "be14aa2d66a4ff37"
  },
  {
   "cell_type": "code",
   "execution_count": 263,
   "outputs": [],
   "source": [
    "def split_pre_filtered_data(docs, labels, train_split=0.8):\n",
    "    \"\"\"\n",
    "    Split the filtered documents and labels into training and validation sets.\n",
    "    \"\"\"\n",
    "    split_point = int(train_split * len(docs))\n",
    "    train_docs = docs[:split_point]\n",
    "    train_labels = labels[:split_point]\n",
    "    val_docs = docs[split_point:]\n",
    "    val_labels = labels[split_point:]\n",
    "    return train_docs, train_labels, val_docs, val_labels"
   ],
   "metadata": {
    "collapsed": false,
    "ExecuteTime": {
     "end_time": "2023-11-29T02:02:44.596395300Z",
     "start_time": "2023-11-29T02:02:44.573397200Z"
    }
   },
   "id": "3458e027cb4d1a61"
  },
  {
   "cell_type": "code",
   "execution_count": 264,
   "outputs": [],
   "source": [
    "camera_train_docs, camera_train_labels, camera_val_docs, camera_val_labels = split_pre_filtered_data(camera_docs, camera_labels)\n",
    "book_train_docs, book_train_labels, book_val_docs, book_val_labels = split_pre_filtered_data(book_docs, book_labels)"
   ],
   "metadata": {
    "collapsed": false,
    "ExecuteTime": {
     "end_time": "2023-11-29T02:02:44.638384500Z",
     "start_time": "2023-11-29T02:02:44.609399900Z"
    }
   },
   "id": "860f539fde1de45f"
  },
  {
   "cell_type": "markdown",
   "source": [
    "### Train the classifier on the camera and book reviews"
   ],
   "metadata": {
    "collapsed": false
   },
   "id": "c9da015b11699c74"
  },
  {
   "cell_type": "code",
   "execution_count": 266,
   "outputs": [
    {
     "name": "stdout",
     "output_type": "stream",
     "text": [
      "Camera Classifier on Camera Reviews Accuracy: 0.8675\n",
      "Book Classifier on Book Reviews Accuracy: 0.7925\n",
      "Camera Classifier on Book Reviews Accuracy: 0.71\n",
      "Book Classifier on Camera Reviews Accuracy: 0.65\n"
     ]
    }
   ],
   "source": [
    "# Train classifier for camera reviews\n",
    "camera_model= train_nb(camera_train_docs, camera_train_labels)\n",
    "\n",
    "# Evaluate classifier on camera validation set\n",
    "camera_predicted_labels = classify_documents(camera_val_docs, camera_model)\n",
    "camera_accuracy = accuracy(camera_val_labels, camera_predicted_labels)\n",
    "\n",
    "# Train classifier for book reviews\n",
    "book_model = train_nb(book_train_docs, book_train_labels)\n",
    "\n",
    "# Evaluate classifier on book validation set\n",
    "book_predicted_labels = classify_documents(book_val_docs, book_model)\n",
    "book_accuracy = accuracy(book_val_labels, book_predicted_labels)\n",
    "\n",
    "# Evaluate the classifiers on the opposite domain\n",
    "camera_on_book_accuracy = accuracy(book_val_labels, classify_documents(book_val_docs, camera_model))\n",
    "book_on_camera_accuracy = accuracy(camera_val_labels, classify_documents(camera_val_docs, book_model))\n",
    "\n",
    "# Show the results\n",
    "print(f\"Camera Classifier on Camera Reviews Accuracy: {camera_accuracy}\")\n",
    "print(f\"Book Classifier on Book Reviews Accuracy: {book_accuracy}\")\n",
    "print(f\"Camera Classifier on Book Reviews Accuracy: {camera_on_book_accuracy}\")\n",
    "print(f\"Book Classifier on Camera Reviews Accuracy: {book_on_camera_accuracy}\")"
   ],
   "metadata": {
    "collapsed": false,
    "ExecuteTime": {
     "end_time": "2023-11-29T02:04:09.265927600Z",
     "start_time": "2023-11-29T02:04:08.927977200Z"
    }
   },
   "id": "903324be8dfcd766"
  },
  {
   "cell_type": "markdown",
   "source": [
    "### Classifier Performance Analysis\n",
    "#### Within-Domain Accuracy\n",
    "* **Camera Classifier on Camera Reviews**: Achieved an accuracy of 0.8675. The high accuracy indicates that the classifier is well-tuned to the specific features and patterns present in camera reviews. \n",
    "* **Book Classifier on Book Reviews**: Accomplished an accuracy of 0.7925. While slightly lower than the camera classifier, it still shows a strong performance suggesting a good model fit to book review data.\n",
    "\n",
    "#### Cross-Domain Accuracy\n",
    "* **Camera Classifier on Book Reviews**: The accuracy dropped to 0.71 when the camera classifier was applied to book reviews. This significant drop in accuracy highlights the domain sensitivity. In turn indicating that features learned from camera reviews are not as effective in classifying book reviews.\n",
    "* **Book Classifier on Camera Reviews**: Saw an even further drop in accuracy to 0.65. Similarly to the camera classifier, the book classifier was not able to generalize well to the camera reviews.\n",
    "\n",
    "#### Conclusion\n",
    "The results demonstrate a clear importance of domain sensitivity. Both classifiers perform well within their respective domains showing that they have learned domain-specific features effectively. However, when applied to a different domain their accuracy drops significantly demonstrating the importance of domain-specific language and features in text classification tasks. \n"
   ],
   "metadata": {
    "collapsed": false
   },
   "id": "5e721646af4a471b"
  },
  {
   "cell_type": "markdown",
   "source": [
    "### Naive Bayes for numerical data"
   ],
   "metadata": {
    "collapsed": false
   },
   "id": "ab729f4edc6ceeaa"
  },
  {
   "cell_type": "code",
   "execution_count": 267,
   "outputs": [],
   "source": [
    "# Read the data\n",
    "df = pd.read_csv('iris.csv')"
   ],
   "metadata": {
    "collapsed": false,
    "ExecuteTime": {
     "end_time": "2023-11-29T02:04:29.058906400Z",
     "start_time": "2023-11-29T02:04:29.033526400Z"
    }
   },
   "id": "d9906c899c9a6618"
  },
  {
   "cell_type": "code",
   "execution_count": 268,
   "outputs": [],
   "source": [
    "# Train the model\n",
    "model = train_nb(df, 'species')\n",
    "\n",
    "predictions = []\n",
    "\n",
    "# Iterate over the rows in the dataframe\n",
    "for index, row in df.iterrows():\n",
    "    iris_document = row.drop('species').tolist()\n",
    "    \n",
    "    # Compute the log probability for each class\n",
    "    log_probs = {label: score_doc_label(iris_document, label, model) for label in model}\n",
    "    predicted_class = max(log_probs, key=log_probs.get)\n",
    "    predictions.append(predicted_class)\n",
    "\n",
    "# Add the predictions to the dataframe\n",
    "df['predicted_species'] = predictions\n",
    "df['correct_prediction'] = df['species'] == df['predicted_species']"
   ],
   "metadata": {
    "collapsed": false,
    "ExecuteTime": {
     "end_time": "2023-11-29T02:07:31.522460600Z",
     "start_time": "2023-11-29T02:07:31.406473400Z"
    }
   },
   "id": "813dc0105a569938"
  },
  {
   "cell_type": "code",
   "execution_count": 269,
   "outputs": [
    {
     "data": {
      "text/plain": "<Figure size 1000x600 with 1 Axes>",
      "image/png": "[encoded data removed]"
     },
     "metadata": {},
     "output_type": "display_data"
    }
   ],
   "source": [
    "# Plot the correct and incorrect predictions\n",
    "plt.figure(figsize=(10, 6))\n",
    "sns.scatterplot(data=df, x='petal_length', y='petal_width', hue='correct_prediction', style='species', palette={True: \"green\", False: \"red\"})\n",
    "plt.title('Iris Species Predictions: Correct vs Incorrect')\n",
    "plt.xlabel('Petal Length')\n",
    "plt.ylabel('Petal Width')\n",
    "handles, _ = plt.gca().get_legend_handles_labels()\n",
    "plt.legend(handles=handles[1:], labels=['Incorrect', 'Correct'], title='Correct Prediction', loc='upper left')\n",
    "plt.show()"
   ],
   "metadata": {
    "collapsed": false,
    "ExecuteTime": {
     "end_time": "2023-11-29T02:07:33.421613800Z",
     "start_time": "2023-11-29T02:07:33.185628400Z"
    }
   },
   "id": "f88599a93517f44a"
  },
  {
   "cell_type": "markdown",
   "source": [
    "## References:\n",
    "* Add 1 (Laplace) Smoothing: https://courses.engr.illinois.edu/cs447/fa2018/Slides/Lecture04.pdf"
   ],
   "metadata": {
    "collapsed": false
   },
   "id": "84338698f856244e"
  },
  {
   "cell_type": "code",
   "execution_count": null,
   "outputs": [],
   "source": [],
   "metadata": {
    "collapsed": false
   },
   "id": "b226ea0938076e90"
  }
 ],
 "metadata": {
  "kernelspec": {
   "display_name": "Python 3",
   "language": "python",
   "name": "python3"
  },
  "language_info": {
   "codemirror_mode": {
    "name": "ipython",
    "version": 2
   },
   "file_extension": ".py",
   "mimetype": "text/x-python",
   "name": "python",
   "nbconvert_exporter": "python",
   "pygments_lexer": "ipython2",
   "version": "2.7.6"
  }
 },
 "nbformat": 4,
 "nbformat_minor": 5
}
